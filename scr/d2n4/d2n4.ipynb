{
 "cells": [
  {
   "cell_type": "markdown",
   "id": "81adbf09",
   "metadata": {},
   "source": [
    "## TUGA S 5-Mini Project-Data Curah Hujan 15 Kab/Kota di Kalimantan"
   ]
  },
  {
   "cell_type": "markdown",
   "id": "bacf445e",
   "metadata": {},
   "source": [
    "Diperoleh data yang memuat curah hujan dari 5 Provinsi di Kalimantan. Dengan masing-masing provinsi diwakili oleh 3 kab/kota. Berikut merupakan rincian Provinsi dan Kota yang termuat dalam data :\n",
    "1. Kalimantan Timur(Samarinda, Balikpapan, Sendawar)\n",
    "2. Kalimantan Utara(Tarakan, Tanjungselor, Malinau)\n",
    "3. Kalimantan Tengah(Palangkaraya, Purukcahu, Pangkalanbun)\n",
    "4. Kalimantan Selatan(Banjarmasin, Kota Baru, Barabai)\n",
    "5. Kalimantan Barat(Pontianak, Ketapang, Sintang)"
   ]
  },
  {
   "cell_type": "code",
   "execution_count": 1,
   "id": "499af19a",
   "metadata": {},
   "outputs": [
    {
     "ename": "LoadError",
     "evalue": "ArgumentError: Package XLXS not found in current path:\n- Run `import Pkg; Pkg.add(\"XLXS\")` to install the XLXS package.\n",
     "output_type": "error",
     "traceback": [
      "ArgumentError: Package XLXS not found in current path:\n- Run `import Pkg; Pkg.add(\"XLXS\")` to install the XLXS package.\n",
      "",
      "Stacktrace:",
      " [1] require(into::Module, mod::Symbol)",
      "   @ Base .\\loading.jl:893",
      " [2] eval",
      "   @ .\\boot.jl:360 [inlined]",
      " [3] include_string(mapexpr::typeof(REPL.softscope), mod::Module, code::String, filename::String)",
      "   @ Base .\\loading.jl:1116"
     ]
    }
   ],
   "source": [
    "using DataFrames\n",
    "using Plots\n",
    "using StatsBase\n",
    "using MLBase\n",
    "using LsqFit\n",
    "using Measures\n",
    "using StatsPlots\n",
    "using CSV\n",
    "using Statistics\n",
    "using LinearAlgebra\n",
    "using MultivariateStats\n",
    "using XLXS"
   ]
  },
  {
   "cell_type": "code",
   "execution_count": 25,
   "id": "674e6f75",
   "metadata": {},
   "outputs": [
    {
     "ename": "LoadError",
     "evalue": "UndefVarError: XLXS not defined",
     "output_type": "error",
     "traceback": [
      "UndefVarError: XLXS not defined",
      "",
      "Stacktrace:",
      " [1] top-level scope",
      "   @ In[25]:1",
      " [2] eval",
      "   @ .\\boot.jl:360 [inlined]",
      " [3] include_string(mapexpr::typeof(REPL.softscope), mod::Module, code::String, filename::String)",
      "   @ Base .\\loading.jl:1116"
     ]
    }
   ],
   "source": [
    "Data_2 = XLXS.readtable(\"data2.xlxs\",DataFrame);\n",
    "Data4=XLSX.readtable(\"Data4.xlsx\", \"Data Harian\")\n",
    "Data=DataFrame(Data4...)"
   ]
  },
  {
   "cell_type": "code",
   "execution_count": 26,
   "id": "a62477ce",
   "metadata": {},
   "outputs": [],
   "source": [
    "ENV[\"LINES\"] = 50;\n",
    "ENV[\"COLUMNS\"] = 50;"
   ]
  },
  {
   "cell_type": "code",
   "execution_count": 27,
   "id": "69a3aca8",
   "metadata": {},
   "outputs": [
    {
     "ename": "LoadError",
     "evalue": "UndefVarError: Data_2 not defined",
     "output_type": "error",
     "traceback": [
      "UndefVarError: Data_2 not defined",
      "",
      "Stacktrace:",
      " [1] top-level scope",
      "   @ show.jl:955",
      " [2] eval",
      "   @ .\\boot.jl:360 [inlined]",
      " [3] include_string(mapexpr::typeof(REPL.softscope), mod::Module, code::String, filename::String)",
      "   @ Base .\\loading.jl:1116"
     ]
    }
   ],
   "source": [
    "@show typeof(Data_2)\n",
    "Data_2"
   ]
  },
  {
   "cell_type": "markdown",
   "id": "b7855891",
   "metadata": {},
   "source": [
    "### UKURAN PEMUSATAN DATA"
   ]
  },
  {
   "cell_type": "code",
   "execution_count": 28,
   "id": "2eceacd4",
   "metadata": {},
   "outputs": [
    {
     "ename": "LoadError",
     "evalue": "UndefVarError: Data_2 not defined",
     "output_type": "error",
     "traceback": [
      "UndefVarError: Data_2 not defined",
      "",
      "Stacktrace:",
      " [1] top-level scope",
      "   @ In[28]:1",
      " [2] eval",
      "   @ .\\boot.jl:360 [inlined]",
      " [3] include_string(mapexpr::typeof(REPL.softscope), mod::Module, code::String, filename::String)",
      "   @ Base .\\loading.jl:1116"
     ]
    }
   ],
   "source": [
    "describe(Data_2)"
   ]
  },
  {
   "cell_type": "code",
   "execution_count": 29,
   "id": "c31ac659",
   "metadata": {},
   "outputs": [
    {
     "name": "stdout",
     "output_type": "stream",
     "text": [
      "Samarinda\n"
     ]
    },
    {
     "ename": "LoadError",
     "evalue": "UndefVarError: Data_2 not defined",
     "output_type": "error",
     "traceback": [
      "UndefVarError: Data_2 not defined",
      "",
      "Stacktrace:",
      " [1] top-level scope",
      "   @ In[29]:2",
      " [2] eval",
      "   @ .\\boot.jl:360 [inlined]",
      " [3] include_string(mapexpr::typeof(REPL.softscope), mod::Module, code::String, filename::String)",
      "   @ Base .\\loading.jl:1116"
     ]
    }
   ],
   "source": [
    "println(\"Samarinda\")\n",
    "describe(Data_2.Samarinda)\n",
    "\n",
    "println(\"Balikpapan\")\n",
    "describe(Data_2.Balikpapan)\n",
    "\n",
    "println(\"Sendawar\")\n",
    "describe(Data_2.Sendawar)\n",
    "\n",
    "println(\"Tarakan\")\n",
    "describe(Data_2.Tarakan)\n",
    "\n",
    "println(\"Tanjungselor\")\n",
    "describe(Data_2.Tanjungselor)\n",
    "\n",
    "println(\"Malinau\")\n",
    "describe(Data_2.Malinau)\n",
    "\n",
    "println(\"Palangkaraya\")\n",
    "describe(Data_2.Palangkaraya)\n",
    "\n",
    "println(\"Purukcahu\")\n",
    "describe(Data_2.Purukcahu)\n",
    "\n",
    "println(\"Pangkalanbun\")\n",
    "describe(Data_2.Pangkalanbun)\n",
    "\n",
    "println(\"Banjarmasin\")\n",
    "describe(Data_2.Banjarmasin)\n",
    "\n",
    "println(\"Kota Baru\")\n",
    "describe(Data_2.KotaBaru)\n",
    "\n",
    "println(\"Tanjungselor\")\n",
    "describe(Data_2.Barabai)\n",
    "\n",
    "println(\"Pontianak\")\n",
    "describe(Data_2.Pontianak)\n",
    "\n",
    "println(\"Ketapang\")\n",
    "describe(Data_2.Ketapang)\n",
    "\n",
    "println(\"Sintang\")\n",
    "describe(Data_2.Sintang)"
   ]
  },
  {
   "cell_type": "markdown",
   "id": "f2953b53",
   "metadata": {},
   "source": [
    "### Line Plots"
   ]
  },
  {
   "cell_type": "markdown",
   "id": "86c8d118",
   "metadata": {},
   "source": [
    "Akan dilakukan plot data curah hujan di masing-masing Provinsi."
   ]
  },
  {
   "cell_type": "code",
   "execution_count": 30,
   "id": "60de6e41",
   "metadata": {},
   "outputs": [
    {
     "ename": "LoadError",
     "evalue": "UndefVarError: Data_2 not defined",
     "output_type": "error",
     "traceback": [
      "UndefVarError: Data_2 not defined",
      "",
      "Stacktrace:",
      " [1] top-level scope",
      "   @ In[30]:1",
      " [2] eval",
      "   @ .\\boot.jl:360 [inlined]",
      " [3] include_string(mapexpr::typeof(REPL.softscope), mod::Module, code::String, filename::String)",
      "   @ Base .\\loading.jl:1116"
     ]
    }
   ],
   "source": [
    "x = Data_2.Waktu; \n",
    "k1=Data_2.Samarinda; k2= Data_2.Balikpapan; k3= Data_2.Sendawar;\n",
    "y1= Data_2.Tarakan; y2= Data_2.Tanjungselor;y3=Data_2.Malinau;\n",
    "y4= Data_2.Palangkaraya; y5= Data_2.Purukcahu; y6= Data_2.Pangkalanbun;\n",
    "y7= Data_2.Banjarmasin; y8= Data_2.KotaBaru; y9= Data_2.Barabai;\n",
    "y10= Data_2.Pontianak; y11= Data_2.Ketapang; y12= Data_2.Sintang;"
   ]
  },
  {
   "cell_type": "code",
   "execution_count": 31,
   "id": "24e60850",
   "metadata": {},
   "outputs": [
    {
     "ename": "LoadError",
     "evalue": "UndefVarError: k1 not defined",
     "output_type": "error",
     "traceback": [
      "UndefVarError: k1 not defined",
      "",
      "Stacktrace:",
      " [1] top-level scope",
      "   @ In[31]:1",
      " [2] eval",
      "   @ .\\boot.jl:360 [inlined]",
      " [3] include_string(mapexpr::typeof(REPL.softscope), mod::Module, code::String, filename::String)",
      "   @ Base .\\loading.jl:1116"
     ]
    }
   ],
   "source": [
    "p1= plot(x, [k1, k2, k3], xaxis= \"Waktu\", yaxis=\"Curah Hujan\", xrotation=90, xtickfont=font(8), ylims=(0,400),\n",
    "    label=[\"Samarinda\" \"Balikpapan\" \"Sendawar\"], color=[\"Black\" \"Yellow\" \"Green\"], bottom_margin=40mm, right_margin=10mm, size=(1500, 1000), \n",
    "    linewidth=2, title=\"Grafik Curah Hujan Provinsi Kalimantan Timur\")\n",
    "\n",
    "p2= plot(x, [y1, y2, y3], xaxis= \"Waktu\", yaxis=\"Curah Hujan\", xrotation=90, xtickfont=font(8), ylims=(0,400), \n",
    "    label=[\"Tarakan\" \"Tanjungselor\" \"Malinau\"], color=[\"Black\" \"Yellow\" \"Green\"], bottom_margin=40mm, right_margin=10mm, size=(1500, 1000), \n",
    "    linewidth=2, title=\"Grafik Curah Hujan Provinsi Kalimantan Utara\")\n",
    "\n",
    "p3= plot(x, [y4, y5, y6], xaxis= \"Waktu\", yaxis=\"Curah Hujan\", xrotation=90, xtickfont=font(8), ylims=(0,400),\n",
    "     label=[\"Palangkaraya\" \"Purukcahu\" \"Pagkalanbun\"], color=[\"Black\" \"Yellow\" \"Green\"], bottom_margin=40mm, right_margin=10mm, size=(1500, 1000), \n",
    "    linewidth=2, title=\"Grafik Curah Hujan Provinsi Kalimantan Tengah\")\n",
    "\n",
    "p4= plot(x, [y7, y8, y9], xaxis= \"Waktu\", yaxis=\"Curah Hujan\", xrotation=90, xtickfont=font(8), ylims=(0,400),\n",
    "    label=[\"Banjarmasin\" \"Kota Baru\" \"Barabai\"], color=[\"Black\" \"Yellow\" \"Green\"], bottom_margin=40mm, right_margin=10mm, size=(1500, 1000), \n",
    "    linewidth=2, title=\"Grafik Curah Hujan Provinsi Kalimantan Selatan\")\n",
    "\n",
    "p5= plot(x, [y10, y11, y12], xaxis= \"Waktu\", yaxis=\"Curah Hujan\", xrotation=90, xtickfont=font(8),ylims=(0,400),\n",
    "    label=[\"Pontianak\" \"Ketapang\" \"Sintang\"], color=[\"Black\" \"Yellow\" \"Green\"], bottom_margin=40mm, right_margin=10mm, size=(1500, 1000), \n",
    "    linewidth=2, title=\"Grafik Curah Hujan Provinsi Kalimantan Barat\")\n",
    "\n",
    "plot!(p1, p2, p3, p4, p5)"
   ]
  },
  {
   "cell_type": "code",
   "execution_count": 32,
   "id": "1c9a1712",
   "metadata": {},
   "outputs": [
    {
     "ename": "LoadError",
     "evalue": "UndefVarError: k1 not defined",
     "output_type": "error",
     "traceback": [
      "UndefVarError: k1 not defined",
      "",
      "Stacktrace:",
      " [1] top-level scope",
      "   @ In[32]:1",
      " [2] eval",
      "   @ .\\boot.jl:360 [inlined]",
      " [3] include_string(mapexpr::typeof(REPL.softscope), mod::Module, code::String, filename::String)",
      "   @ Base .\\loading.jl:1116"
     ]
    }
   ],
   "source": [
    "boxplot(k1, bins=50, alpha=0.5, label=\"Samarinda\", color=\"black\")\n",
    "boxplot!(k2, bins=50, alpha=0.5, label=\"Balikpapan\", color=\"yellow\")\n",
    "boxplot!(k3, bins=50, alpha=0.5, label=\"Sendawar\", color=\"green\", xlabel=\"Curah Hujan\", ylims=(0,400),\n",
    "    title=\"Grafik Curah Hujan Kalimantan Timur\")"
   ]
  },
  {
   "cell_type": "code",
   "execution_count": 33,
   "id": "6943a47b",
   "metadata": {},
   "outputs": [
    {
     "ename": "LoadError",
     "evalue": "UndefVarError: y1 not defined",
     "output_type": "error",
     "traceback": [
      "UndefVarError: y1 not defined",
      "",
      "Stacktrace:",
      " [1] top-level scope",
      "   @ In[33]:1",
      " [2] eval",
      "   @ .\\boot.jl:360 [inlined]",
      " [3] include_string(mapexpr::typeof(REPL.softscope), mod::Module, code::String, filename::String)",
      "   @ Base .\\loading.jl:1116"
     ]
    }
   ],
   "source": [
    "boxplot(y1, bins=50, alpha=0.5, label=\"Tarakan\", color=\"black\")\n",
    "boxplot!(y2, bins=50, alpha=0.5, label=\"Tanjungselor\", color=\"yellow\")\n",
    "boxplot!(y3, bins=50, alpha=0.5, label=\"Malinau\", color=\"green\", xlabel=\"Curah Hujan\", ylims=(0,400),\n",
    "title=\"Grafik Curah Hujan Kalimantan Utara\")"
   ]
  },
  {
   "cell_type": "code",
   "execution_count": 34,
   "id": "0a8a3493",
   "metadata": {},
   "outputs": [
    {
     "ename": "LoadError",
     "evalue": "UndefVarError: y4 not defined",
     "output_type": "error",
     "traceback": [
      "UndefVarError: y4 not defined",
      "",
      "Stacktrace:",
      " [1] top-level scope",
      "   @ In[34]:1",
      " [2] eval",
      "   @ .\\boot.jl:360 [inlined]",
      " [3] include_string(mapexpr::typeof(REPL.softscope), mod::Module, code::String, filename::String)",
      "   @ Base .\\loading.jl:1116"
     ]
    }
   ],
   "source": [
    "boxplot(y4, bins=50, alpha=0.5, label=\"Palangkaraya\", color=\"black\")\n",
    "boxplot!(y5, bins=50, alpha=0.5, label=\"Pukucahu\", color=\"yellow\")\n",
    "boxplot!(y6, bins=50, alpha=0.5, label=\"Pangkalanbun\", color=\"green\", xlabel=\"Curah Hujan\", ylims=(0,400),\n",
    "    title=\"Grafik Curah Hujan Kalimantan Tengah\")"
   ]
  },
  {
   "cell_type": "code",
   "execution_count": 35,
   "id": "56d897f0",
   "metadata": {},
   "outputs": [
    {
     "ename": "LoadError",
     "evalue": "UndefVarError: y7 not defined",
     "output_type": "error",
     "traceback": [
      "UndefVarError: y7 not defined",
      "",
      "Stacktrace:",
      " [1] top-level scope",
      "   @ In[35]:1",
      " [2] eval",
      "   @ .\\boot.jl:360 [inlined]",
      " [3] include_string(mapexpr::typeof(REPL.softscope), mod::Module, code::String, filename::String)",
      "   @ Base .\\loading.jl:1116"
     ]
    }
   ],
   "source": [
    "boxplot(y7, bins=50, alpha=0.5, label=\"Banjarmasin\", color=\"black\")\n",
    "boxplot!(y8, bins=50, alpha=0.5, label=\"Kota Baru\", color=\"yellow\")\n",
    "boxplot!(y9, bins=50, alpha=0.5, label=\"Barabai\", color=\"green\", xlabel=\"Curah Hujan\", ylims=(0,400),\n",
    "    title=\"Grafik Curah Hujan Kalimantan Selatan\")"
   ]
  },
  {
   "cell_type": "code",
   "execution_count": 36,
   "id": "0c9f6459",
   "metadata": {},
   "outputs": [
    {
     "ename": "LoadError",
     "evalue": "UndefVarError: y10 not defined",
     "output_type": "error",
     "traceback": [
      "UndefVarError: y10 not defined",
      "",
      "Stacktrace:",
      " [1] top-level scope",
      "   @ In[36]:1",
      " [2] eval",
      "   @ .\\boot.jl:360 [inlined]",
      " [3] include_string(mapexpr::typeof(REPL.softscope), mod::Module, code::String, filename::String)",
      "   @ Base .\\loading.jl:1116"
     ]
    }
   ],
   "source": [
    "boxplot(y10, bins=50, alpha=0.5, label=\"Pontianak\", color=\"black\")\n",
    "boxplot!(y11, bins=50, alpha=0.5, label=\"Ketapang\", color=\"yellow\")\n",
    "boxplot!(y12, bins=50, alpha=0.5, label=\"Sintang\", color=\"green\", xlabel=\"Curah Hujan\", ylims=(0,400),\n",
    "    title=\"Grafik Curah Hujan Kalimantan Barat\")"
   ]
  },
  {
   "cell_type": "markdown",
   "id": "b2c56561",
   "metadata": {},
   "source": [
    "### Metode PCA "
   ]
  },
  {
   "cell_type": "code",
   "execution_count": 37,
   "id": "0e3109b2",
   "metadata": {},
   "outputs": [
    {
     "ename": "LoadError",
     "evalue": "UndefVarError: Data_2 not defined",
     "output_type": "error",
     "traceback": [
      "UndefVarError: Data_2 not defined",
      "",
      "Stacktrace:",
      " [1] top-level scope",
      "   @ In[37]:1",
      " [2] eval",
      "   @ .\\boot.jl:360 [inlined]",
      " [3] include_string(mapexpr::typeof(REPL.softscope), mod::Module, code::String, filename::String)",
      "   @ Base .\\loading.jl:1116"
     ]
    }
   ],
   "source": [
    "Kaltim = Matrix(Data_2[:,2:4])\n",
    "Kalut  = Matrix(Data_2[:,5:7])\n",
    "Kalteng= Matrix(Data_2[:,8:10])\n",
    "Kalsel = Matrix(Data_2[:,11:13])\n",
    "Kalbar = Matrix(Data_2[:,14:16])\n",
    "names(Data_2)\n",
    "names(Kaltim)"
   ]
  },
  {
   "cell_type": "code",
   "execution_count": 38,
   "id": "ebe64547",
   "metadata": {},
   "outputs": [
    {
     "ename": "LoadError",
     "evalue": "UndefVarError: Kaltim not defined",
     "output_type": "error",
     "traceback": [
      "UndefVarError: Kaltim not defined",
      "",
      "Stacktrace:",
      " [1] top-level scope",
      "   @ In[38]:2",
      " [2] eval",
      "   @ .\\boot.jl:360 [inlined]",
      " [3] include_string(mapexpr::typeof(REPL.softscope), mod::Module, code::String, filename::String)",
      "   @ Base .\\loading.jl:1116"
     ]
    }
   ],
   "source": [
    "# center and normalize the data\n",
    "data1 = Kaltim\n",
    "data1 = (data1 .- mean(data1,dims = 1))./ std(data1,dims=1)\n",
    "data2 = Kalut\n",
    "data2 = (data2 .- mean(data2,dims = 1))./ std(data2,dims=1)\n",
    "data3 = Kalteng\n",
    "data3 = (data3 .- mean(data3,dims = 1))./ std(data3,dims=1)\n",
    "data4 = Kalsel\n",
    "data4 = (data4 .- mean(data4,dims = 1))./ std(data4,dims=1)\n",
    "data5 = Kalbar\n",
    "data5 = (data5 .- mean(data5,dims = 1))./ std(data5,dims=1)"
   ]
  },
  {
   "cell_type": "code",
   "execution_count": 39,
   "id": "494b21e5",
   "metadata": {},
   "outputs": [
    {
     "ename": "LoadError",
     "evalue": "UndefVarError: data1 not defined",
     "output_type": "error",
     "traceback": [
      "UndefVarError: data1 not defined",
      "",
      "Stacktrace:",
      " [1] top-level scope",
      "   @ In[39]:1",
      " [2] eval",
      "   @ .\\boot.jl:360 [inlined]",
      " [3] include_string(mapexpr::typeof(REPL.softscope), mod::Module, code::String, filename::String)",
      "   @ Base .\\loading.jl:1116"
     ]
    }
   ],
   "source": [
    "data1'\n",
    "data2'\n",
    "data3'\n",
    "data4'\n",
    "data5'"
   ]
  },
  {
   "cell_type": "code",
   "execution_count": 40,
   "id": "f17bed49",
   "metadata": {},
   "outputs": [
    {
     "ename": "LoadError",
     "evalue": "UndefVarError: data1 not defined",
     "output_type": "error",
     "traceback": [
      "UndefVarError: data1 not defined",
      "",
      "Stacktrace:",
      " [1] top-level scope",
      "   @ In[40]:1",
      " [2] eval",
      "   @ .\\boot.jl:360 [inlined]",
      " [3] include_string(mapexpr::typeof(REPL.softscope), mod::Module, code::String, filename::String)",
      "   @ Base .\\loading.jl:1116"
     ]
    }
   ],
   "source": [
    "p1= fit(PCA,data1',maxoutdim=2)\n",
    "p2= fit(PCA,data2',maxoutdim=2)\n",
    "p3= fit(PCA,data3',maxoutdim=2)\n",
    "p4= fit(PCA,data4',maxoutdim=2)\n",
    "p5= fit(PCA,data5',maxoutdim=2)"
   ]
  },
  {
   "cell_type": "code",
   "execution_count": 41,
   "id": "1223089b",
   "metadata": {},
   "outputs": [
    {
     "ename": "LoadError",
     "evalue": "UndefVarError: p1 not defined",
     "output_type": "error",
     "traceback": [
      "UndefVarError: p1 not defined",
      "",
      "Stacktrace:",
      " [1] top-level scope",
      "   @ In[41]:1",
      " [2] eval",
      "   @ .\\boot.jl:360 [inlined]",
      " [3] include_string(mapexpr::typeof(REPL.softscope), mod::Module, code::String, filename::String)",
      "   @ Base .\\loading.jl:1116"
     ]
    }
   ],
   "source": [
    "P1= projection(p1)\n",
    "P2= projection(p2)\n",
    "P3= projection(p3)\n",
    "P4= projection(p4)\n",
    "P5= projection(p5)"
   ]
  },
  {
   "cell_type": "code",
   "execution_count": 42,
   "id": "b9e80f89",
   "metadata": {
    "scrolled": false
   },
   "outputs": [
    {
     "ename": "LoadError",
     "evalue": "UndefVarError: P1 not defined",
     "output_type": "error",
     "traceback": [
      "UndefVarError: P1 not defined",
      "",
      "Stacktrace:",
      " [1] top-level scope",
      "   @ In[42]:1",
      " [2] eval",
      "   @ .\\boot.jl:360 [inlined]",
      " [3] include_string(mapexpr::typeof(REPL.softscope), mod::Module, code::String, filename::String)",
      "   @ Base .\\loading.jl:1116"
     ]
    }
   ],
   "source": [
    "P1'*(data1[1,:]-mean(p1))\n",
    "P2'*(data2[1,:]-mean(p2))\n",
    "P3'*(data3[1,:]-mean(p3))\n",
    "P4'*(data4[1,:]-mean(p4))\n",
    "P5'*(data5[1,:]-mean(p5))"
   ]
  },
  {
   "cell_type": "code",
   "execution_count": 43,
   "id": "f3689bab",
   "metadata": {
    "scrolled": true
   },
   "outputs": [
    {
     "ename": "LoadError",
     "evalue": "UndefVarError: data1 not defined",
     "output_type": "error",
     "traceback": [
      "UndefVarError: data1 not defined",
      "",
      "Stacktrace:",
      " [1] top-level scope",
      "   @ In[43]:1",
      " [2] eval",
      "   @ .\\boot.jl:360 [inlined]",
      " [3] include_string(mapexpr::typeof(REPL.softscope), mod::Module, code::String, filename::String)",
      "   @ Base .\\loading.jl:1116"
     ]
    }
   ],
   "source": [
    "Yte1 = MultivariateStats.transform(p1,data1')\n",
    "Yte2 = MultivariateStats.transform(p2,data2')\n",
    "Yte3 = MultivariateStats.transform(p3,data3')\n",
    "Yte4 = MultivariateStats.transform(p4,data4')\n",
    "Yte5 = MultivariateStats.transform(p5,data5')"
   ]
  },
  {
   "cell_type": "code",
   "execution_count": 44,
   "id": "0955b63a",
   "metadata": {},
   "outputs": [
    {
     "ename": "LoadError",
     "evalue": "UndefVarError: p1 not defined",
     "output_type": "error",
     "traceback": [
      "UndefVarError: p1 not defined",
      "",
      "Stacktrace:",
      " [1] top-level scope",
      "   @ In[44]:1",
      " [2] eval",
      "   @ .\\boot.jl:360 [inlined]",
      " [3] include_string(mapexpr::typeof(REPL.softscope), mod::Module, code::String, filename::String)",
      "   @ Base .\\loading.jl:1116"
     ]
    }
   ],
   "source": [
    "Xr1 =reconstruct(p1,Yte1)\n",
    "Xr2 =reconstruct(p2,Yte2)\n",
    "Xr3 =reconstruct(p3,Yte3)\n",
    "Xr4 =reconstruct(p4,Yte4)\n",
    "Xr5 =reconstruct(p5,Yte5)"
   ]
  },
  {
   "cell_type": "code",
   "execution_count": 45,
   "id": "bccc49fd",
   "metadata": {},
   "outputs": [
    {
     "ename": "LoadError",
     "evalue": "UndefVarError: data1 not defined",
     "output_type": "error",
     "traceback": [
      "UndefVarError: data1 not defined",
      "",
      "Stacktrace:",
      " [1] top-level scope",
      "   @ In[45]:1",
      " [2] eval",
      "   @ .\\boot.jl:360 [inlined]",
      " [3] include_string(mapexpr::typeof(REPL.softscope), mod::Module, code::String, filename::String)",
      "   @ Base .\\loading.jl:1116"
     ]
    }
   ],
   "source": [
    "norm(Xr1-data1')\n",
    "norm(Xr2-data2')\n",
    "norm(Xr3-data3')\n",
    "norm(Xr4-data4')\n",
    "norm(Xr5-data5')"
   ]
  },
  {
   "cell_type": "code",
   "execution_count": 46,
   "id": "2ea67120",
   "metadata": {},
   "outputs": [
    {
     "ename": "LoadError",
     "evalue": "UndefVarError: Yte1 not defined",
     "output_type": "error",
     "traceback": [
      "UndefVarError: Yte1 not defined",
      "",
      "Stacktrace:",
      " [1] top-level scope",
      "   @ In[46]:1",
      " [2] eval",
      "   @ .\\boot.jl:360 [inlined]",
      " [3] include_string(mapexpr::typeof(REPL.softscope), mod::Module, code::String, filename::String)",
      "   @ Base .\\loading.jl:1116"
     ]
    }
   ],
   "source": [
    "a=Plots.scatter(Yte1[1,:],Yte1[2,:])\n",
    "b=Plots.scatter(Yte2[1,:],Yte2[2,:])\n",
    "c=Plots.scatter(Yte3[1,:],Yte3[2,:])\n",
    "d=Plots.scatter(Yte4[1,:],Yte4[2,:])\n",
    "e=Plots.scatter(Yte5[1,:],Yte5[2,:])\n",
    "plot!(a,b,c,d,e)"
   ]
  },
  {
   "cell_type": "code",
   "execution_count": null,
   "id": "944184b2",
   "metadata": {},
   "outputs": [],
   "source": []
  },
  {
   "cell_type": "code",
   "execution_count": null,
   "id": "7edb1484",
   "metadata": {},
   "outputs": [],
   "source": [
    "\n"
   ]
  },
  {
   "cell_type": "code",
   "execution_count": null,
   "id": "edebd062",
   "metadata": {},
   "outputs": [],
   "source": []
  }
 ],
 "metadata": {
  "kernelspec": {
   "display_name": "Julia 1.6.3",
   "language": "julia",
   "name": "julia-1.6"
  },
  "language_info": {
   "file_extension": ".jl",
   "mimetype": "application/julia",
   "name": "julia",
   "version": "1.6.3"
  }
 },
 "nbformat": 4,
 "nbformat_minor": 5
}

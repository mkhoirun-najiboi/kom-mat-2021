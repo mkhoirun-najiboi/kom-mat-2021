{
 "cells": [
  {
   "cell_type": "markdown",
   "id": "3a0cd292",
   "metadata": {},
   "source": [
    "# k-means clustering"
   ]
  },
  {
   "cell_type": "code",
   "execution_count": 2,
   "id": "eb72ff35",
   "metadata": {},
   "outputs": [],
   "source": [
    "using Clustering\n",
    "using VegaLite\n",
    "using VegaDatasets\n",
    "using DataFrames\n",
    "using Statistics\n",
    "using JSON\n",
    "using XLSX\n",
    "using Distances"
   ]
  },
  {
   "cell_type": "code",
   "execution_count": 2,
   "id": "df8b6d74",
   "metadata": {},
   "outputs": [
    {
     "data": {
      "text/html": [
       "<div class=\"data-frame\"><p>12 rows × 7 columns (omitted printing of 1 columns)</p><table class=\"data-frame\"><thead><tr><th></th><th>BulanKe</th><th>Bulan</th><th>Rata-Rata Suhu</th><th>TotalCurahHujan</th><th>Rata-Rata Kelembaban</th><th>Rata-Rata Kecepatan Angin</th></tr><tr><th></th><th title=\"Any\">Any</th><th title=\"Any\">Any</th><th title=\"Any\">Any</th><th title=\"Any\">Any</th><th title=\"Any\">Any</th><th title=\"Any\">Any</th></tr></thead><tbody><tr><th>1</th><td>1</td><td>Januari</td><td>27.2487</td><td>198.5</td><td>83.3859</td><td>22.4701</td></tr><tr><th>2</th><td>2</td><td>Februari</td><td>27.4815</td><td>251.0</td><td>84.4934</td><td>10.6694</td></tr><tr><th>3</th><td>3</td><td>Maret</td><td>27.2969</td><td>290.3</td><td>83.2613</td><td>14.7434</td></tr><tr><th>4</th><td>4</td><td>April</td><td>27.8725</td><td>303.9</td><td>83.8413</td><td>9.872</td></tr><tr><th>5</th><td>5</td><td>Mei</td><td>28.2246</td><td>83.4</td><td>79.8852</td><td>11.1538</td></tr><tr><th>6</th><td>6</td><td>Juni</td><td>28.2691</td><td>12.5</td><td>74.0459</td><td>8.40279</td></tr><tr><th>7</th><td>7</td><td>Juli</td><td>27.6997</td><td>16.2</td><td>71.6176</td><td>11.739</td></tr><tr><th>8</th><td>8</td><td>Agustus</td><td>27.7423</td><td>15.1</td><td>69.3392</td><td>9.49442</td></tr><tr><th>9</th><td>9</td><td>September</td><td>28.0694</td><td>2.0</td><td>69.6607</td><td>11.653</td></tr><tr><th>10</th><td>10</td><td>Oktober</td><td>28.8209</td><td>31.3</td><td>70.1347</td><td>10.0842</td></tr><tr><th>11</th><td>11</td><td>November</td><td>28.1259</td><td>83.5</td><td>77.5519</td><td>7.74686</td></tr><tr><th>12</th><td>12</td><td>Desember</td><td>27.4108</td><td>306.6</td><td>83.0634</td><td>7.06731</td></tr></tbody></table></div>"
      ],
      "text/latex": [
       "\\begin{tabular}{r|ccccccc}\n",
       "\t& BulanKe & Bulan & Rata-Rata Suhu & TotalCurahHujan & Rata-Rata Kelembaban & Rata-Rata Kecepatan Angin & \\\\\n",
       "\t\\hline\n",
       "\t& Any & Any & Any & Any & Any & Any & \\\\\n",
       "\t\\hline\n",
       "\t1 & 1 & Januari & 27.2487 & 198.5 & 83.3859 & 22.4701 & $\\dots$ \\\\\n",
       "\t2 & 2 & Februari & 27.4815 & 251.0 & 84.4934 & 10.6694 & $\\dots$ \\\\\n",
       "\t3 & 3 & Maret & 27.2969 & 290.3 & 83.2613 & 14.7434 & $\\dots$ \\\\\n",
       "\t4 & 4 & April & 27.8725 & 303.9 & 83.8413 & 9.872 & $\\dots$ \\\\\n",
       "\t5 & 5 & Mei & 28.2246 & 83.4 & 79.8852 & 11.1538 & $\\dots$ \\\\\n",
       "\t6 & 6 & Juni & 28.2691 & 12.5 & 74.0459 & 8.40279 & $\\dots$ \\\\\n",
       "\t7 & 7 & Juli & 27.6997 & 16.2 & 71.6176 & 11.739 & $\\dots$ \\\\\n",
       "\t8 & 8 & Agustus & 27.7423 & 15.1 & 69.3392 & 9.49442 & $\\dots$ \\\\\n",
       "\t9 & 9 & September & 28.0694 & 2.0 & 69.6607 & 11.653 & $\\dots$ \\\\\n",
       "\t10 & 10 & Oktober & 28.8209 & 31.3 & 70.1347 & 10.0842 & $\\dots$ \\\\\n",
       "\t11 & 11 & November & 28.1259 & 83.5 & 77.5519 & 7.74686 & $\\dots$ \\\\\n",
       "\t12 & 12 & Desember & 27.4108 & 306.6 & 83.0634 & 7.06731 & $\\dots$ \\\\\n",
       "\\end{tabular}\n"
      ],
      "text/plain": [
       "\u001b[1m12×7 DataFrame\u001b[0m\n",
       "\u001b[1m Row \u001b[0m│\u001b[1m BulanKe \u001b[0m\u001b[1m Bulan     \u001b[0m\u001b[1m Rata-Rata Suhu \u001b[0m\u001b[1m TotalCurahHujan \u001b[0m\u001b[1m Rata-Rata Kelembab\u001b[0m ⋯\n",
       "\u001b[1m     \u001b[0m│\u001b[90m Any     \u001b[0m\u001b[90m Any       \u001b[0m\u001b[90m Any            \u001b[0m\u001b[90m Any             \u001b[0m\u001b[90m Any               \u001b[0m ⋯\n",
       "─────┼──────────────────────────────────────────────────────────────────────────\n",
       "   1 │ 1        Januari    27.2487         198.5            83.3859            ⋯\n",
       "   2 │ 2        Februari   27.4815         251.0            84.4934\n",
       "   3 │ 3        Maret      27.2969         290.3            83.2613\n",
       "   4 │ 4        April      27.8725         303.9            83.8413\n",
       "   5 │ 5        Mei        28.2246         83.4             79.8852            ⋯\n",
       "   6 │ 6        Juni       28.2691         12.5             74.0459\n",
       "   7 │ 7        Juli       27.6997         16.2             71.6176\n",
       "   8 │ 8        Agustus    27.7423         15.1             69.3392\n",
       "   9 │ 9        September  28.0694         2.0              69.6607            ⋯\n",
       "  10 │ 10       Oktober    28.8209         31.3             70.1347\n",
       "  11 │ 11       November   28.1259         83.5             77.5519\n",
       "  12 │ 12       Desember   27.4108         306.6            83.0634\n",
       "\u001b[36m                                                               3 columns omitted\u001b[0m"
      ]
     },
     "execution_count": 2,
     "metadata": {},
     "output_type": "execute_result"
    }
   ],
   "source": [
    "per_bulan = DataFrame(XLSX.readtable(\"Data_4.xlsx\",\"Per Bulan\")...)"
   ]
  },
  {
   "cell_type": "code",
   "execution_count": 3,
   "id": "aa8ca7bf",
   "metadata": {},
   "outputs": [
    {
     "data": {
      "text/html": [
       "<div class=\"data-frame\"><p>12 rows × 8 columns (omitted printing of 2 columns)</p><table class=\"data-frame\"><thead><tr><th></th><th>BulanKe</th><th>Bulan</th><th>Rata-Rata Suhu</th><th>TotalCurahHujan</th><th>Cluster</th><th>Rata-Rata Kelembaban</th></tr><tr><th></th><th title=\"Any\">Any</th><th title=\"Any\">Any</th><th title=\"Any\">Any</th><th title=\"Any\">Any</th><th title=\"Int64\">Int64</th><th title=\"Any\">Any</th></tr></thead><tbody><tr><th>1</th><td>1</td><td>Januari</td><td>27.2487</td><td>198.5</td><td>2</td><td>83.3859</td></tr><tr><th>2</th><td>2</td><td>Februari</td><td>27.4815</td><td>251.0</td><td>2</td><td>84.4934</td></tr><tr><th>3</th><td>3</td><td>Maret</td><td>27.2969</td><td>290.3</td><td>2</td><td>83.2613</td></tr><tr><th>4</th><td>4</td><td>April</td><td>27.8725</td><td>303.9</td><td>2</td><td>83.8413</td></tr><tr><th>5</th><td>5</td><td>Mei</td><td>28.2246</td><td>83.4</td><td>1</td><td>79.8852</td></tr><tr><th>6</th><td>6</td><td>Juni</td><td>28.2691</td><td>12.5</td><td>1</td><td>74.0459</td></tr><tr><th>7</th><td>7</td><td>Juli</td><td>27.6997</td><td>16.2</td><td>1</td><td>71.6176</td></tr><tr><th>8</th><td>8</td><td>Agustus</td><td>27.7423</td><td>15.1</td><td>1</td><td>69.3392</td></tr><tr><th>9</th><td>9</td><td>September</td><td>28.0694</td><td>2.0</td><td>1</td><td>69.6607</td></tr><tr><th>10</th><td>10</td><td>Oktober</td><td>28.8209</td><td>31.3</td><td>1</td><td>70.1347</td></tr><tr><th>11</th><td>11</td><td>November</td><td>28.1259</td><td>83.5</td><td>1</td><td>77.5519</td></tr><tr><th>12</th><td>12</td><td>Desember</td><td>27.4108</td><td>306.6</td><td>2</td><td>83.0634</td></tr></tbody></table></div>"
      ],
      "text/latex": [
       "\\begin{tabular}{r|ccccccc}\n",
       "\t& BulanKe & Bulan & Rata-Rata Suhu & TotalCurahHujan & Cluster & Rata-Rata Kelembaban & \\\\\n",
       "\t\\hline\n",
       "\t& Any & Any & Any & Any & Int64 & Any & \\\\\n",
       "\t\\hline\n",
       "\t1 & 1 & Januari & 27.2487 & 198.5 & 2 & 83.3859 & $\\dots$ \\\\\n",
       "\t2 & 2 & Februari & 27.4815 & 251.0 & 2 & 84.4934 & $\\dots$ \\\\\n",
       "\t3 & 3 & Maret & 27.2969 & 290.3 & 2 & 83.2613 & $\\dots$ \\\\\n",
       "\t4 & 4 & April & 27.8725 & 303.9 & 2 & 83.8413 & $\\dots$ \\\\\n",
       "\t5 & 5 & Mei & 28.2246 & 83.4 & 1 & 79.8852 & $\\dots$ \\\\\n",
       "\t6 & 6 & Juni & 28.2691 & 12.5 & 1 & 74.0459 & $\\dots$ \\\\\n",
       "\t7 & 7 & Juli & 27.6997 & 16.2 & 1 & 71.6176 & $\\dots$ \\\\\n",
       "\t8 & 8 & Agustus & 27.7423 & 15.1 & 1 & 69.3392 & $\\dots$ \\\\\n",
       "\t9 & 9 & September & 28.0694 & 2.0 & 1 & 69.6607 & $\\dots$ \\\\\n",
       "\t10 & 10 & Oktober & 28.8209 & 31.3 & 1 & 70.1347 & $\\dots$ \\\\\n",
       "\t11 & 11 & November & 28.1259 & 83.5 & 1 & 77.5519 & $\\dots$ \\\\\n",
       "\t12 & 12 & Desember & 27.4108 & 306.6 & 2 & 83.0634 & $\\dots$ \\\\\n",
       "\\end{tabular}\n"
      ],
      "text/plain": [
       "\u001b[1m12×8 DataFrame\u001b[0m\n",
       "\u001b[1m Row \u001b[0m│\u001b[1m BulanKe \u001b[0m\u001b[1m Bulan     \u001b[0m\u001b[1m Rata-Rata Suhu \u001b[0m\u001b[1m TotalCurahHujan \u001b[0m\u001b[1m Cluster \u001b[0m\u001b[1m Rata-Rata\u001b[0m ⋯\n",
       "\u001b[1m     \u001b[0m│\u001b[90m Any     \u001b[0m\u001b[90m Any       \u001b[0m\u001b[90m Any            \u001b[0m\u001b[90m Any             \u001b[0m\u001b[90m Int64   \u001b[0m\u001b[90m Any      \u001b[0m ⋯\n",
       "─────┼──────────────────────────────────────────────────────────────────────────\n",
       "   1 │ 1        Januari    27.2487         198.5                  2  83.3859   ⋯\n",
       "   2 │ 2        Februari   27.4815         251.0                  2  84.4934\n",
       "   3 │ 3        Maret      27.2969         290.3                  2  83.2613\n",
       "   4 │ 4        April      27.8725         303.9                  2  83.8413\n",
       "   5 │ 5        Mei        28.2246         83.4                   1  79.8852   ⋯\n",
       "   6 │ 6        Juni       28.2691         12.5                   1  74.0459\n",
       "   7 │ 7        Juli       27.6997         16.2                   1  71.6176\n",
       "   8 │ 8        Agustus    27.7423         15.1                   1  69.3392\n",
       "   9 │ 9        September  28.0694         2.0                    1  69.6607   ⋯\n",
       "  10 │ 10       Oktober    28.8209         31.3                   1  70.1347\n",
       "  11 │ 11       November   28.1259         83.5                   1  77.5519\n",
       "  12 │ 12       Desember   27.4108         306.6                  2  83.0634\n",
       "\u001b[36m                                                               3 columns omitted\u001b[0m"
      ]
     },
     "execution_count": 3,
     "metadata": {},
     "output_type": "execute_result"
    }
   ],
   "source": [
    "curah_hujan=Float64.(per_bulan[!, 4])\n",
    "cluster2 = kmeans(curah_hujan', 2)\n",
    "insertcols!(per_bulan,5,:Cluster=>cluster2.assignments)"
   ]
  },
  {
   "cell_type": "markdown",
   "id": "25d57eda",
   "metadata": {},
   "source": [
    "# k-medoids clustering"
   ]
  },
  {
   "cell_type": "code",
   "execution_count": 6,
   "id": "d51c9986",
   "metadata": {},
   "outputs": [
    {
     "data": {
      "text/html": [
       "<div class=\"data-frame\"><p>12 rows × 9 columns (omitted printing of 3 columns)</p><table class=\"data-frame\"><thead><tr><th></th><th>BulanKe</th><th>Bulan</th><th>Rata-Rata Suhu</th><th>TotalCurahHujan</th><th>Cluster</th><th>medoids_clusters</th></tr><tr><th></th><th title=\"Any\">Any</th><th title=\"Any\">Any</th><th title=\"Any\">Any</th><th title=\"Any\">Any</th><th title=\"Int64\">Int64</th><th title=\"Int64\">Int64</th></tr></thead><tbody><tr><th>1</th><td>1</td><td>Januari</td><td>27.2487</td><td>198.5</td><td>2</td><td>2</td></tr><tr><th>2</th><td>2</td><td>Februari</td><td>27.4815</td><td>251.0</td><td>2</td><td>2</td></tr><tr><th>3</th><td>3</td><td>Maret</td><td>27.2969</td><td>290.3</td><td>2</td><td>2</td></tr><tr><th>4</th><td>4</td><td>April</td><td>27.8725</td><td>303.9</td><td>2</td><td>2</td></tr><tr><th>5</th><td>5</td><td>Mei</td><td>28.2246</td><td>83.4</td><td>1</td><td>1</td></tr><tr><th>6</th><td>6</td><td>Juni</td><td>28.2691</td><td>12.5</td><td>1</td><td>1</td></tr><tr><th>7</th><td>7</td><td>Juli</td><td>27.6997</td><td>16.2</td><td>1</td><td>1</td></tr><tr><th>8</th><td>8</td><td>Agustus</td><td>27.7423</td><td>15.1</td><td>1</td><td>1</td></tr><tr><th>9</th><td>9</td><td>September</td><td>28.0694</td><td>2.0</td><td>1</td><td>1</td></tr><tr><th>10</th><td>10</td><td>Oktober</td><td>28.8209</td><td>31.3</td><td>1</td><td>1</td></tr><tr><th>11</th><td>11</td><td>November</td><td>28.1259</td><td>83.5</td><td>1</td><td>1</td></tr><tr><th>12</th><td>12</td><td>Desember</td><td>27.4108</td><td>306.6</td><td>2</td><td>2</td></tr></tbody></table></div>"
      ],
      "text/latex": [
       "\\begin{tabular}{r|ccccccc}\n",
       "\t& BulanKe & Bulan & Rata-Rata Suhu & TotalCurahHujan & Cluster & medoids\\_clusters & \\\\\n",
       "\t\\hline\n",
       "\t& Any & Any & Any & Any & Int64 & Int64 & \\\\\n",
       "\t\\hline\n",
       "\t1 & 1 & Januari & 27.2487 & 198.5 & 2 & 2 & $\\dots$ \\\\\n",
       "\t2 & 2 & Februari & 27.4815 & 251.0 & 2 & 2 & $\\dots$ \\\\\n",
       "\t3 & 3 & Maret & 27.2969 & 290.3 & 2 & 2 & $\\dots$ \\\\\n",
       "\t4 & 4 & April & 27.8725 & 303.9 & 2 & 2 & $\\dots$ \\\\\n",
       "\t5 & 5 & Mei & 28.2246 & 83.4 & 1 & 1 & $\\dots$ \\\\\n",
       "\t6 & 6 & Juni & 28.2691 & 12.5 & 1 & 1 & $\\dots$ \\\\\n",
       "\t7 & 7 & Juli & 27.6997 & 16.2 & 1 & 1 & $\\dots$ \\\\\n",
       "\t8 & 8 & Agustus & 27.7423 & 15.1 & 1 & 1 & $\\dots$ \\\\\n",
       "\t9 & 9 & September & 28.0694 & 2.0 & 1 & 1 & $\\dots$ \\\\\n",
       "\t10 & 10 & Oktober & 28.8209 & 31.3 & 1 & 1 & $\\dots$ \\\\\n",
       "\t11 & 11 & November & 28.1259 & 83.5 & 1 & 1 & $\\dots$ \\\\\n",
       "\t12 & 12 & Desember & 27.4108 & 306.6 & 2 & 2 & $\\dots$ \\\\\n",
       "\\end{tabular}\n"
      ],
      "text/plain": [
       "\u001b[1m12×9 DataFrame\u001b[0m\n",
       "\u001b[1m Row \u001b[0m│\u001b[1m BulanKe \u001b[0m\u001b[1m Bulan     \u001b[0m\u001b[1m Rata-Rata Suhu \u001b[0m\u001b[1m TotalCurahHujan \u001b[0m\u001b[1m Cluster \u001b[0m\u001b[1m medoids_c\u001b[0m ⋯\n",
       "\u001b[1m     \u001b[0m│\u001b[90m Any     \u001b[0m\u001b[90m Any       \u001b[0m\u001b[90m Any            \u001b[0m\u001b[90m Any             \u001b[0m\u001b[90m Int64   \u001b[0m\u001b[90m Int64    \u001b[0m ⋯\n",
       "─────┼──────────────────────────────────────────────────────────────────────────\n",
       "   1 │ 1        Januari    27.2487         198.5                  2            ⋯\n",
       "   2 │ 2        Februari   27.4815         251.0                  2\n",
       "   3 │ 3        Maret      27.2969         290.3                  2\n",
       "   4 │ 4        April      27.8725         303.9                  2\n",
       "   5 │ 5        Mei        28.2246         83.4                   1            ⋯\n",
       "   6 │ 6        Juni       28.2691         12.5                   1\n",
       "   7 │ 7        Juli       27.6997         16.2                   1\n",
       "   8 │ 8        Agustus    27.7423         15.1                   1\n",
       "   9 │ 9        September  28.0694         2.0                    1            ⋯\n",
       "  10 │ 10       Oktober    28.8209         31.3                   1\n",
       "  11 │ 11       November   28.1259         83.5                   1\n",
       "  12 │ 12       Desember   27.4108         306.6                  2\n",
       "\u001b[36m                                                               4 columns omitted\u001b[0m"
      ]
     },
     "execution_count": 6,
     "metadata": {},
     "output_type": "execute_result"
    }
   ],
   "source": [
    "xmatrix = curah_hujan'\n",
    "D = pairwise(Euclidean(), xmatrix, xmatrix,dims=2) \n",
    "\n",
    "K = kmedoids(D,2)\n",
    "insertcols!(per_bulan,6,:medoids_clusters=>K.assignments)"
   ]
  },
  {
   "cell_type": "markdown",
   "id": "98873d1b",
   "metadata": {},
   "source": [
    "# Visualisasi menggunakan vlplot point"
   ]
  },
  {
   "cell_type": "code",
   "execution_count": 7,
   "id": "93cbee46",
   "metadata": {},
   "outputs": [
    {
     "data": {
      "text/html": [
       "<div class=\"data-frame\"><p>12 rows × 4 columns</p><table class=\"data-frame\"><thead><tr><th></th><th>BulanKe</th><th>Bulan</th><th>TotalCurahHujan</th><th>Pengelompokan</th></tr><tr><th></th><th title=\"Any\">Any</th><th title=\"Any\">Any</th><th title=\"Any\">Any</th><th title=\"Any\">Any</th></tr></thead><tbody><tr><th>1</th><td>1</td><td>Januari</td><td>198.5</td><td>klaster 2</td></tr><tr><th>2</th><td>2</td><td>Februari</td><td>251.0</td><td>klaster 2</td></tr><tr><th>3</th><td>3</td><td>Maret</td><td>290.3</td><td>klaster 2</td></tr><tr><th>4</th><td>4</td><td>April</td><td>303.9</td><td>klaster 2</td></tr><tr><th>5</th><td>5</td><td>Mei</td><td>83.4</td><td>klaster 1</td></tr><tr><th>6</th><td>6</td><td>Juni</td><td>12.5</td><td>klaster 1</td></tr><tr><th>7</th><td>7</td><td>Juli</td><td>16.2</td><td>klaster 1</td></tr><tr><th>8</th><td>8</td><td>Agustus</td><td>15.1</td><td>klaster 1</td></tr><tr><th>9</th><td>9</td><td>September</td><td>2.0</td><td>klaster 1</td></tr><tr><th>10</th><td>10</td><td>Oktober</td><td>31.3</td><td>klaster 1</td></tr><tr><th>11</th><td>11</td><td>November</td><td>83.5</td><td>klaster 1</td></tr><tr><th>12</th><td>12</td><td>Desember</td><td>306.6</td><td>klaster 2</td></tr></tbody></table></div>"
      ],
      "text/latex": [
       "\\begin{tabular}{r|cccc}\n",
       "\t& BulanKe & Bulan & TotalCurahHujan & Pengelompokan\\\\\n",
       "\t\\hline\n",
       "\t& Any & Any & Any & Any\\\\\n",
       "\t\\hline\n",
       "\t1 & 1 & Januari & 198.5 & klaster 2 \\\\\n",
       "\t2 & 2 & Februari & 251.0 & klaster 2 \\\\\n",
       "\t3 & 3 & Maret & 290.3 & klaster 2 \\\\\n",
       "\t4 & 4 & April & 303.9 & klaster 2 \\\\\n",
       "\t5 & 5 & Mei & 83.4 & klaster 1 \\\\\n",
       "\t6 & 6 & Juni & 12.5 & klaster 1 \\\\\n",
       "\t7 & 7 & Juli & 16.2 & klaster 1 \\\\\n",
       "\t8 & 8 & Agustus & 15.1 & klaster 1 \\\\\n",
       "\t9 & 9 & September & 2.0 & klaster 1 \\\\\n",
       "\t10 & 10 & Oktober & 31.3 & klaster 1 \\\\\n",
       "\t11 & 11 & November & 83.5 & klaster 1 \\\\\n",
       "\t12 & 12 & Desember & 306.6 & klaster 2 \\\\\n",
       "\\end{tabular}\n"
      ],
      "text/plain": [
       "\u001b[1m12×4 DataFrame\u001b[0m\n",
       "\u001b[1m Row \u001b[0m│\u001b[1m BulanKe \u001b[0m\u001b[1m Bulan     \u001b[0m\u001b[1m TotalCurahHujan \u001b[0m\u001b[1m Pengelompokan \u001b[0m\n",
       "\u001b[1m     \u001b[0m│\u001b[90m Any     \u001b[0m\u001b[90m Any       \u001b[0m\u001b[90m Any             \u001b[0m\u001b[90m Any           \u001b[0m\n",
       "─────┼────────────────────────────────────────────────────\n",
       "   1 │ 1        Januari    198.5            klaster 2\n",
       "   2 │ 2        Februari   251.0            klaster 2\n",
       "   3 │ 3        Maret      290.3            klaster 2\n",
       "   4 │ 4        April      303.9            klaster 2\n",
       "   5 │ 5        Mei        83.4             klaster 1\n",
       "   6 │ 6        Juni       12.5             klaster 1\n",
       "   7 │ 7        Juli       16.2             klaster 1\n",
       "   8 │ 8        Agustus    15.1             klaster 1\n",
       "   9 │ 9        September  2.0              klaster 1\n",
       "  10 │ 10       Oktober    31.3             klaster 1\n",
       "  11 │ 11       November   83.5             klaster 1\n",
       "  12 │ 12       Desember   306.6            klaster 2"
      ]
     },
     "execution_count": 7,
     "metadata": {},
     "output_type": "execute_result"
    }
   ],
   "source": [
    "hasil = DataFrame(XLSX.readtable(\"Data_4.xlsx\",\"Hasil\")...)"
   ]
  },
  {
   "cell_type": "code",
   "execution_count": 13,
   "id": "d52ec9cd",
   "metadata": {
    "scrolled": true
   },
   "outputs": [
    {
     "data": {
      "application/vnd.vegalite.v4+json": {
       "data": {
        "values": [
         {
          "Bulan": "Januari",
          "BulanKe": 1,
          "Pengelompokan": "klaster 2",
          "TotalCurahHujan": 198.4999999999998
         },
         {
          "Bulan": "Februari",
          "BulanKe": 2,
          "Pengelompokan": "klaster 2",
          "TotalCurahHujan": 250.9999999999999
         },
         {
          "Bulan": "Maret",
          "BulanKe": 3,
          "Pengelompokan": "klaster 2",
          "TotalCurahHujan": 290.2999999999996
         },
         {
          "Bulan": "April",
          "BulanKe": 4,
          "Pengelompokan": "klaster 2",
          "TotalCurahHujan": 303.90000000000003
         },
         {
          "Bulan": "Mei",
          "BulanKe": 5,
          "Pengelompokan": "klaster 1",
          "TotalCurahHujan": 83.39999999999996
         },
         {
          "Bulan": "Juni",
          "BulanKe": 6,
          "Pengelompokan": "klaster 1",
          "TotalCurahHujan": 12.499999999999996
         },
         {
          "Bulan": "Juli",
          "BulanKe": 7,
          "Pengelompokan": "klaster 1",
          "TotalCurahHujan": 16.200000000000003
         },
         {
          "Bulan": "Agustus",
          "BulanKe": 8,
          "Pengelompokan": "klaster 1",
          "TotalCurahHujan": 15.100000000000001
         },
         {
          "Bulan": "September",
          "BulanKe": 9,
          "Pengelompokan": "klaster 1",
          "TotalCurahHujan": 2.0000000000000004
         },
         {
          "Bulan": "Oktober",
          "BulanKe": 10,
          "Pengelompokan": "klaster 1",
          "TotalCurahHujan": 31.3
         },
         {
          "Bulan": "November",
          "BulanKe": 11,
          "Pengelompokan": "klaster 1",
          "TotalCurahHujan": 83.49999999999997
         },
         {
          "Bulan": "Desember",
          "BulanKe": 12,
          "Pengelompokan": "klaster 2",
          "TotalCurahHujan": 306.5999999999999
         }
        ]
       },
       "encoding": {
        "color": {
         "field": "Pengelompokan"
        },
        "x": {
         "field": "BulanKe"
        },
        "y": {
         "field": "TotalCurahHujan",
         "sort": "descending"
        }
       },
       "height": 250,
       "mark": "point",
       "width": 250
      },
      "image/png": "[encoded data removed]",
      "image/svg+xml": [
       "<?xml version=\"1.0\" encoding=\"utf-8\"?>\n",
       "<!DOCTYPE svg PUBLIC \"-//W3C//DTD SVG 1.1//EN\" \"http://www.w3.org/Graphics/SVG/1.1/DTD/svg11.dtd\">\n",
       "<svg xmlns=\"http://www.w3.org/2000/svg\" xmlns:xlink=\"http://www.w3.org/1999/xlink\" version=\"1.1\" class=\"marks\" width=\"478\" height=\"292\" viewBox=\"0 0 478 292\"><rect width=\"478\" height=\"292\" fill=\"white\"/><g fill=\"none\" stroke-miterlimit=\"10\" transform=\"translate(115,5)\"><g class=\"mark-group role-frame root\" role=\"graphics-object\" aria-roledescription=\"group mark container\"><g transform=\"translate(0,0)\"><path class=\"background\" aria-hidden=\"true\" d=\"M0.5,0.5h250v250h-250Z\" stroke=\"#ddd\"/><g><g class=\"mark-group role-axis\" role=\"graphics-symbol\" aria-roledescription=\"axis\" aria-label=\"X-axis titled 'BulanKe' for a discrete scale with 12 values: 1, 2, 3, 4, 5, ending with 12\"><g transform=\"translate(0.5,250.5)\"><path class=\"background\" aria-hidden=\"true\" d=\"M0,0h0v0h0Z\" pointer-events=\"none\"/><g><g class=\"mark-rule role-axis-tick\" pointer-events=\"none\"><line transform=\"translate(10,0)\" x2=\"0\" y2=\"5\" stroke=\"#888\" stroke-width=\"1\" opacity=\"1\"/><line transform=\"translate(31,0)\" x2=\"0\" y2=\"5\" stroke=\"#888\" stroke-width=\"1\" opacity=\"1\"/><line transform=\"translate(52,0)\" x2=\"0\" y2=\"5\" stroke=\"#888\" stroke-width=\"1\" opacity=\"1\"/><line transform=\"translate(73,0)\" x2=\"0\" y2=\"5\" stroke=\"#888\" stroke-width=\"1\" opacity=\"1\"/><line transform=\"translate(94,0)\" x2=\"0\" y2=\"5\" stroke=\"#888\" stroke-width=\"1\" opacity=\"1\"/><line transform=\"translate(115,0)\" x2=\"0\" y2=\"5\" stroke=\"#888\" stroke-width=\"1\" opacity=\"1\"/><line transform=\"translate(135,0)\" x2=\"0\" y2=\"5\" stroke=\"#888\" stroke-width=\"1\" opacity=\"1\"/><line transform=\"translate(156,0)\" x2=\"0\" y2=\"5\" stroke=\"#888\" stroke-width=\"1\" opacity=\"1\"/><line transform=\"translate(177,0)\" x2=\"0\" y2=\"5\" stroke=\"#888\" stroke-width=\"1\" opacity=\"1\"/><line transform=\"translate(198,0)\" x2=\"0\" y2=\"5\" stroke=\"#888\" stroke-width=\"1\" opacity=\"1\"/><line transform=\"translate(219,0)\" x2=\"0\" y2=\"5\" stroke=\"#888\" stroke-width=\"1\" opacity=\"1\"/><line transform=\"translate(240,0)\" x2=\"0\" y2=\"5\" stroke=\"#888\" stroke-width=\"1\" opacity=\"1\"/></g><g class=\"mark-text role-axis-label\" pointer-events=\"none\"><text text-anchor=\"end\" transform=\"translate(10.416666666666671,7) rotate(270) translate(0,3)\" font-family=\"sans-serif\" font-size=\"10px\" fill=\"#000\" opacity=\"1\">1</text><text text-anchor=\"end\" transform=\"translate(31.250000000000004,7) rotate(270) translate(0,3)\" font-family=\"sans-serif\" font-size=\"10px\" fill=\"#000\" opacity=\"1\">2</text><text text-anchor=\"end\" transform=\"translate(52.083333333333336,7) rotate(270) translate(0,3)\" font-family=\"sans-serif\" font-size=\"10px\" fill=\"#000\" opacity=\"1\">3</text><text text-anchor=\"end\" transform=\"translate(72.91666666666667,7) rotate(270) translate(0,3)\" font-family=\"sans-serif\" font-size=\"10px\" fill=\"#000\" opacity=\"1\">4</text><text text-anchor=\"end\" transform=\"translate(93.75,7) rotate(270) translate(0,3)\" font-family=\"sans-serif\" font-size=\"10px\" fill=\"#000\" opacity=\"1\">5</text><text text-anchor=\"end\" transform=\"translate(114.58333333333333,7) rotate(270) translate(0,3)\" font-family=\"sans-serif\" font-size=\"10px\" fill=\"#000\" opacity=\"1\">6</text><text text-anchor=\"end\" transform=\"translate(135.41666666666669,7) rotate(270) translate(0,3)\" font-family=\"sans-serif\" font-size=\"10px\" fill=\"#000\" opacity=\"1\">7</text><text text-anchor=\"end\" transform=\"translate(156.25,7) rotate(270) translate(0,3)\" font-family=\"sans-serif\" font-size=\"10px\" fill=\"#000\" opacity=\"1\">8</text><text text-anchor=\"end\" transform=\"translate(177.08333333333331,7) rotate(270) translate(0,3)\" font-family=\"sans-serif\" font-size=\"10px\" fill=\"#000\" opacity=\"1\">9</text><text text-anchor=\"end\" transform=\"translate(197.91666666666669,7) rotate(270) translate(0,3)\" font-family=\"sans-serif\" font-size=\"10px\" fill=\"#000\" opacity=\"1\">10</text><text text-anchor=\"end\" transform=\"translate(218.75,7) rotate(270) translate(0,3)\" font-family=\"sans-serif\" font-size=\"10px\" fill=\"#000\" opacity=\"1\">11</text><text text-anchor=\"end\" transform=\"translate(239.58333333333331,7) rotate(270) translate(0,3)\" font-family=\"sans-serif\" font-size=\"10px\" fill=\"#000\" opacity=\"1\">12</text></g><g class=\"mark-rule role-axis-domain\" pointer-events=\"none\"><line transform=\"translate(0,0)\" x2=\"250\" y2=\"0\" stroke=\"#888\" stroke-width=\"1\" opacity=\"1\"/></g><g class=\"mark-text role-axis-title\" pointer-events=\"none\"><text text-anchor=\"middle\" transform=\"translate(125,30)\" font-family=\"sans-serif\" font-size=\"11px\" font-weight=\"bold\" fill=\"#000\" opacity=\"1\">BulanKe</text></g></g><path class=\"foreground\" aria-hidden=\"true\" d=\"\" pointer-events=\"none\" display=\"none\"/></g></g><g class=\"mark-group role-axis\" role=\"graphics-symbol\" aria-roledescription=\"axis\" aria-label=\"Y-axis titled 'TotalCurahHujan' for a discrete scale with 12 values: 306.5999999999999, 303.90000000000003, 290.2999999999996, 250.9999999999999, 198.4999999999998, ending with 2.0000000000000004\"><g transform=\"translate(0.5,0.5)\"><path class=\"background\" aria-hidden=\"true\" d=\"M0,0h0v0h0Z\" pointer-events=\"none\"/><g><g class=\"mark-rule role-axis-tick\" pointer-events=\"none\"><line transform=\"translate(0,10)\" x2=\"-5\" y2=\"0\" stroke=\"#888\" stroke-width=\"1\" opacity=\"1\"/><line transform=\"translate(0,31)\" x2=\"-5\" y2=\"0\" stroke=\"#888\" stroke-width=\"1\" opacity=\"1\"/><line transform=\"translate(0,52)\" x2=\"-5\" y2=\"0\" stroke=\"#888\" stroke-width=\"1\" opacity=\"1\"/><line transform=\"translate(0,73)\" x2=\"-5\" y2=\"0\" stroke=\"#888\" stroke-width=\"1\" opacity=\"1\"/><line transform=\"translate(0,94)\" x2=\"-5\" y2=\"0\" stroke=\"#888\" stroke-width=\"1\" opacity=\"1\"/><line transform=\"translate(0,115)\" x2=\"-5\" y2=\"0\" stroke=\"#888\" stroke-width=\"1\" opacity=\"1\"/><line transform=\"translate(0,135)\" x2=\"-5\" y2=\"0\" stroke=\"#888\" stroke-width=\"1\" opacity=\"1\"/><line transform=\"translate(0,156)\" x2=\"-5\" y2=\"0\" stroke=\"#888\" stroke-width=\"1\" opacity=\"1\"/><line transform=\"translate(0,177)\" x2=\"-5\" y2=\"0\" stroke=\"#888\" stroke-width=\"1\" opacity=\"1\"/><line transform=\"translate(0,198)\" x2=\"-5\" y2=\"0\" stroke=\"#888\" stroke-width=\"1\" opacity=\"1\"/><line transform=\"translate(0,219)\" x2=\"-5\" y2=\"0\" stroke=\"#888\" stroke-width=\"1\" opacity=\"1\"/><line transform=\"translate(0,240)\" x2=\"-5\" y2=\"0\" stroke=\"#888\" stroke-width=\"1\" opacity=\"1\"/></g><g class=\"mark-text role-axis-label\" pointer-events=\"none\"><text text-anchor=\"end\" transform=\"translate(-7,13.416666666666671)\" font-family=\"sans-serif\" font-size=\"10px\" fill=\"#000\" opacity=\"1\">306.5999999999999</text><text text-anchor=\"end\" transform=\"translate(-7,34.25)\" font-family=\"sans-serif\" font-size=\"10px\" fill=\"#000\" opacity=\"1\">303.90000000000003</text><text text-anchor=\"end\" transform=\"translate(-7,55.083333333333336)\" font-family=\"sans-serif\" font-size=\"10px\" fill=\"#000\" opacity=\"1\">290.2999999999996</text><text text-anchor=\"end\" transform=\"translate(-7,75.91666666666667)\" font-family=\"sans-serif\" font-size=\"10px\" fill=\"#000\" opacity=\"1\">250.9999999999999</text><text text-anchor=\"end\" transform=\"translate(-7,96.75)\" font-family=\"sans-serif\" font-size=\"10px\" fill=\"#000\" opacity=\"1\">198.4999999999998</text><text text-anchor=\"end\" transform=\"translate(-7,117.58333333333333)\" font-family=\"sans-serif\" font-size=\"10px\" fill=\"#000\" opacity=\"1\">83.49999999999997</text><text text-anchor=\"end\" transform=\"translate(-7,138.41666666666669)\" font-family=\"sans-serif\" font-size=\"10px\" fill=\"#000\" opacity=\"1\">83.39999999999996</text><text text-anchor=\"end\" transform=\"translate(-7,159.25)\" font-family=\"sans-serif\" font-size=\"10px\" fill=\"#000\" opacity=\"1\">31.3</text><text text-anchor=\"end\" transform=\"translate(-7,180.08333333333331)\" font-family=\"sans-serif\" font-size=\"10px\" fill=\"#000\" opacity=\"1\">16.200000000000003</text><text text-anchor=\"end\" transform=\"translate(-7,200.91666666666669)\" font-family=\"sans-serif\" font-size=\"10px\" fill=\"#000\" opacity=\"1\">15.100000000000001</text><text text-anchor=\"end\" transform=\"translate(-7,221.75)\" font-family=\"sans-serif\" font-size=\"10px\" fill=\"#000\" opacity=\"1\">12.499999999999996</text><text text-anchor=\"end\" transform=\"translate(-7,242.58333333333331)\" font-family=\"sans-serif\" font-size=\"10px\" fill=\"#000\" opacity=\"1\">2.0000000000000004</text></g><g class=\"mark-rule role-axis-domain\" pointer-events=\"none\"><line transform=\"translate(0,0)\" x2=\"0\" y2=\"250\" stroke=\"#888\" stroke-width=\"1\" opacity=\"1\"/></g><g class=\"mark-text role-axis-title\" pointer-events=\"none\"><text text-anchor=\"middle\" transform=\"translate(-99,125) rotate(-90) translate(0,-2)\" font-family=\"sans-serif\" font-size=\"11px\" font-weight=\"bold\" fill=\"#000\" opacity=\"1\">TotalCurahHujan</text></g></g><path class=\"foreground\" aria-hidden=\"true\" d=\"\" pointer-events=\"none\" display=\"none\"/></g></g><g class=\"mark-symbol role-mark marks\" role=\"graphics-object\" aria-roledescription=\"symbol mark container\"><path aria-label=\"BulanKe: 1; TotalCurahHujan: 198.4999999999998; Pengelompokan: klaster 2\" role=\"graphics-symbol\" aria-roledescription=\"point\" transform=\"translate(10.416666666666671,93.75)\" d=\"M2.7386127875258306,0A2.7386127875258306,2.7386127875258306,0,1,1,-2.7386127875258306,0A2.7386127875258306,2.7386127875258306,0,1,1,2.7386127875258306,0\" stroke=\"#f58518\" stroke-width=\"2\" opacity=\"0.7\"/><path aria-label=\"BulanKe: 2; TotalCurahHujan: 250.9999999999999; Pengelompokan: klaster 2\" role=\"graphics-symbol\" aria-roledescription=\"point\" transform=\"translate(31.250000000000004,72.91666666666667)\" d=\"M2.7386127875258306,0A2.7386127875258306,2.7386127875258306,0,1,1,-2.7386127875258306,0A2.7386127875258306,2.7386127875258306,0,1,1,2.7386127875258306,0\" stroke=\"#f58518\" stroke-width=\"2\" opacity=\"0.7\"/><path aria-label=\"BulanKe: 3; TotalCurahHujan: 290.2999999999996; Pengelompokan: klaster 2\" role=\"graphics-symbol\" aria-roledescription=\"point\" transform=\"translate(52.083333333333336,52.083333333333336)\" d=\"M2.7386127875258306,0A2.7386127875258306,2.7386127875258306,0,1,1,-2.7386127875258306,0A2.7386127875258306,2.7386127875258306,0,1,1,2.7386127875258306,0\" stroke=\"#f58518\" stroke-width=\"2\" opacity=\"0.7\"/><path aria-label=\"BulanKe: 4; TotalCurahHujan: 303.90000000000003; Pengelompokan: klaster 2\" role=\"graphics-symbol\" aria-roledescription=\"point\" transform=\"translate(72.91666666666667,31.250000000000004)\" d=\"M2.7386127875258306,0A2.7386127875258306,2.7386127875258306,0,1,1,-2.7386127875258306,0A2.7386127875258306,2.7386127875258306,0,1,1,2.7386127875258306,0\" stroke=\"#f58518\" stroke-width=\"2\" opacity=\"0.7\"/><path aria-label=\"BulanKe: 5; TotalCurahHujan: 83.39999999999996; Pengelompokan: klaster 1\" role=\"graphics-symbol\" aria-roledescription=\"point\" transform=\"translate(93.75,135.41666666666669)\" d=\"M2.7386127875258306,0A2.7386127875258306,2.7386127875258306,0,1,1,-2.7386127875258306,0A2.7386127875258306,2.7386127875258306,0,1,1,2.7386127875258306,0\" stroke=\"#4c78a8\" stroke-width=\"2\" opacity=\"0.7\"/><path aria-label=\"BulanKe: 6; TotalCurahHujan: 12.499999999999996; Pengelompokan: klaster 1\" role=\"graphics-symbol\" aria-roledescription=\"point\" transform=\"translate(114.58333333333333,218.75)\" d=\"M2.7386127875258306,0A2.7386127875258306,2.7386127875258306,0,1,1,-2.7386127875258306,0A2.7386127875258306,2.7386127875258306,0,1,1,2.7386127875258306,0\" stroke=\"#4c78a8\" stroke-width=\"2\" opacity=\"0.7\"/><path aria-label=\"BulanKe: 7; TotalCurahHujan: 16.200000000000003; Pengelompokan: klaster 1\" role=\"graphics-symbol\" aria-roledescription=\"point\" transform=\"translate(135.41666666666669,177.08333333333331)\" d=\"M2.7386127875258306,0A2.7386127875258306,2.7386127875258306,0,1,1,-2.7386127875258306,0A2.7386127875258306,2.7386127875258306,0,1,1,2.7386127875258306,0\" stroke=\"#4c78a8\" stroke-width=\"2\" opacity=\"0.7\"/><path aria-label=\"BulanKe: 8; TotalCurahHujan: 15.100000000000001; Pengelompokan: klaster 1\" role=\"graphics-symbol\" aria-roledescription=\"point\" transform=\"translate(156.25,197.91666666666669)\" d=\"M2.7386127875258306,0A2.7386127875258306,2.7386127875258306,0,1,1,-2.7386127875258306,0A2.7386127875258306,2.7386127875258306,0,1,1,2.7386127875258306,0\" stroke=\"#4c78a8\" stroke-width=\"2\" opacity=\"0.7\"/><path aria-label=\"BulanKe: 9; TotalCurahHujan: 2.0000000000000004; Pengelompokan: klaster 1\" role=\"graphics-symbol\" aria-roledescription=\"point\" transform=\"translate(177.08333333333331,239.58333333333331)\" d=\"M2.7386127875258306,0A2.7386127875258306,2.7386127875258306,0,1,1,-2.7386127875258306,0A2.7386127875258306,2.7386127875258306,0,1,1,2.7386127875258306,0\" stroke=\"#4c78a8\" stroke-width=\"2\" opacity=\"0.7\"/><path aria-label=\"BulanKe: 10; TotalCurahHujan: 31.3; Pengelompokan: klaster 1\" role=\"graphics-symbol\" aria-roledescription=\"point\" transform=\"translate(197.91666666666669,156.25)\" d=\"M2.7386127875258306,0A2.7386127875258306,2.7386127875258306,0,1,1,-2.7386127875258306,0A2.7386127875258306,2.7386127875258306,0,1,1,2.7386127875258306,0\" stroke=\"#4c78a8\" stroke-width=\"2\" opacity=\"0.7\"/><path aria-label=\"BulanKe: 11; TotalCurahHujan: 83.49999999999997; Pengelompokan: klaster 1\" role=\"graphics-symbol\" aria-roledescription=\"point\" transform=\"translate(218.75,114.58333333333333)\" d=\"M2.7386127875258306,0A2.7386127875258306,2.7386127875258306,0,1,1,-2.7386127875258306,0A2.7386127875258306,2.7386127875258306,0,1,1,2.7386127875258306,0\" stroke=\"#4c78a8\" stroke-width=\"2\" opacity=\"0.7\"/><path aria-label=\"BulanKe: 12; TotalCurahHujan: 306.5999999999999; Pengelompokan: klaster 2\" role=\"graphics-symbol\" aria-roledescription=\"point\" transform=\"translate(239.58333333333331,10.416666666666671)\" d=\"M2.7386127875258306,0A2.7386127875258306,2.7386127875258306,0,1,1,-2.7386127875258306,0A2.7386127875258306,2.7386127875258306,0,1,1,2.7386127875258306,0\" stroke=\"#f58518\" stroke-width=\"2\" opacity=\"0.7\"/></g><g class=\"mark-group role-legend\" role=\"graphics-symbol\" aria-roledescription=\"legend\" aria-label=\"Symbol legend titled 'Pengelompokan' for stroke color with 2 values: klaster 1, klaster 2\"><g transform=\"translate(268,0)\"><path class=\"background\" aria-hidden=\"true\" d=\"M0,0h90v45h-90Z\" pointer-events=\"none\"/><g><g class=\"mark-group role-legend-entry\"><g transform=\"translate(0,16)\"><path class=\"background\" aria-hidden=\"true\" d=\"M0,0h0v0h0Z\" pointer-events=\"none\"/><g><g class=\"mark-group role-scope\" role=\"graphics-object\" aria-roledescription=\"group mark container\"><g transform=\"translate(0,0)\"><path class=\"background\" aria-hidden=\"true\" d=\"M0,0h52v12.5h-52Z\" pointer-events=\"none\" opacity=\"1\"/><g><g class=\"mark-symbol role-legend-symbol\" pointer-events=\"none\"><path transform=\"translate(6,6)\" d=\"M5,0A5,5,0,1,1,-5,0A5,5,0,1,1,5,0\" stroke=\"#4c78a8\" stroke-width=\"1.5\" opacity=\"0.7\"/></g><g class=\"mark-text role-legend-label\" pointer-events=\"none\"><text text-anchor=\"start\" transform=\"translate(16,9)\" font-family=\"sans-serif\" font-size=\"10px\" fill=\"#000\" opacity=\"1\">klaster 1</text></g></g><path class=\"foreground\" aria-hidden=\"true\" d=\"\" pointer-events=\"none\" display=\"none\"/></g><g transform=\"translate(0,16)\"><path class=\"background\" aria-hidden=\"true\" d=\"M0,0h52v12.5h-52Z\" pointer-events=\"none\" opacity=\"1\"/><g><g class=\"mark-symbol role-legend-symbol\" pointer-events=\"none\"><path transform=\"translate(6,6)\" d=\"M5,0A5,5,0,1,1,-5,0A5,5,0,1,1,5,0\" stroke=\"#f58518\" stroke-width=\"1.5\" opacity=\"0.7\"/></g><g class=\"mark-text role-legend-label\" pointer-events=\"none\"><text text-anchor=\"start\" transform=\"translate(16,9)\" font-family=\"sans-serif\" font-size=\"10px\" fill=\"#000\" opacity=\"1\">klaster 2</text></g></g><path class=\"foreground\" aria-hidden=\"true\" d=\"\" pointer-events=\"none\" display=\"none\"/></g></g></g><path class=\"foreground\" aria-hidden=\"true\" d=\"\" pointer-events=\"none\" display=\"none\"/></g></g><g class=\"mark-text role-legend-title\" pointer-events=\"none\"><text text-anchor=\"start\" transform=\"translate(0,9)\" font-family=\"sans-serif\" font-size=\"11px\" font-weight=\"bold\" fill=\"#000\" opacity=\"1\">Pengelompokan</text></g></g><path class=\"foreground\" aria-hidden=\"true\" d=\"\" pointer-events=\"none\" display=\"none\"/></g></g></g><path class=\"foreground\" aria-hidden=\"true\" d=\"\" display=\"none\"/></g></g></g></svg>\n"
      ],
      "text/plain": [
       "@vlplot(\n",
       "    width=250,\n",
       "    height=250,\n",
       "    mark=\"point\",\n",
       "    encoding={\n",
       "        x={\n",
       "            field=\"BulanKe\"\n",
       "        },\n",
       "        y={\n",
       "            sort=\"descending\",\n",
       "            field=\"TotalCurahHujan\"\n",
       "        },\n",
       "        color={\n",
       "            field=\"Pengelompokan\"\n",
       "        }\n",
       "    },\n",
       "    data={\n",
       "        values=...\n",
       "    }\n",
       ")"
      ]
     },
     "execution_count": 13,
     "metadata": {},
     "output_type": "execute_result"
    }
   ],
   "source": [
    "hasil |>\n",
    "@vlplot(\n",
    "    :point,\n",
    "    x=:BulanKe,\n",
    "    y={:TotalCurahHujan,sort=\"descending\"},\n",
    "    color=:Pengelompokan,\n",
    "    width=250,\n",
    "    height=250\n",
    ")"
   ]
  },
  {
   "cell_type": "raw",
   "id": "0a9deae5",
   "metadata": {},
   "source": [
    "Hasil output di atas menunjukkan bahwa bulan Mei - November 2019 termasuk dalam cluster 1 (musim kemarau), sementara bulan Januari - April dan bulan Desember tahun 2019 termasuk dalam cluster 2 (musim hujan)."
   ]
  }
 ],
 "metadata": {
  "kernelspec": {
   "display_name": "Julia 1.6.3",
   "language": "julia",
   "name": "julia-1.6"
  },
  "language_info": {
   "file_extension": ".jl",
   "mimetype": "application/julia",
   "name": "julia",
   "version": "1.6.3"
  }
 },
 "nbformat": 4,
 "nbformat_minor": 5
}

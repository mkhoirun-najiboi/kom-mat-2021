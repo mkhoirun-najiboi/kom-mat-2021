{
 "cells": [
  {
   "cell_type": "markdown",
   "id": "58d6862c",
   "metadata": {},
   "source": [
    "# Yohanes Mario Defianus Beti  G5501211001"
   ]
  },
  {
   "cell_type": "markdown",
   "id": "9b1d13d4",
   "metadata": {},
   "source": [
    "# Metode Clustering"
   ]
  },
  {
   "cell_type": "markdown",
   "id": "9d10fd0c",
   "metadata": {},
   "source": [
    "## Harga Saham "
   ]
  },
  {
   "cell_type": "code",
   "execution_count": 1,
   "id": "2df0538b",
   "metadata": {},
   "outputs": [],
   "source": [
    "%matplotlib inline\n",
    "import pandas as pd\n",
    "import numpy as np\n",
    "import pandas as pd\n",
    "import datetime\n",
    "import seaborn as sns\n",
    "import matplotlib.pyplot as plt\n",
    "from sklearn.cluster import KMeans\n",
    "from sklearn.preprocessing import MinMaxScaler"
   ]
  },
  {
   "cell_type": "code",
   "execution_count": 2,
   "id": "15b6e7b5",
   "metadata": {},
   "outputs": [],
   "source": [
    "file = 'Harga Saham.xlsx'\n",
    "data = pd.read_excel(file)"
   ]
  },
  {
   "cell_type": "code",
   "execution_count": 3,
   "id": "cf65955b",
   "metadata": {},
   "outputs": [
    {
     "data": {
      "text/html": [
       "<div>\n",
       "<style scoped>\n",
       "    .dataframe tbody tr th:only-of-type {\n",
       "        vertical-align: middle;\n",
       "    }\n",
       "\n",
       "    .dataframe tbody tr th {\n",
       "        vertical-align: top;\n",
       "    }\n",
       "\n",
       "    .dataframe thead th {\n",
       "        text-align: right;\n",
       "    }\n",
       "</style>\n",
       "<table border=\"1\" class=\"dataframe\">\n",
       "  <thead>\n",
       "    <tr style=\"text-align: right;\">\n",
       "      <th></th>\n",
       "      <th>Waktu</th>\n",
       "      <th>WIKA</th>\n",
       "      <th>BISI</th>\n",
       "      <th>BSDE</th>\n",
       "      <th>NIKL</th>\n",
       "    </tr>\n",
       "  </thead>\n",
       "  <tbody>\n",
       "    <tr>\n",
       "      <th>0</th>\n",
       "      <td>2020-12-01</td>\n",
       "      <td>1985.000000</td>\n",
       "      <td>1030</td>\n",
       "      <td>1225.000000</td>\n",
       "      <td>1445</td>\n",
       "    </tr>\n",
       "    <tr>\n",
       "      <th>1</th>\n",
       "      <td>2020-11-01</td>\n",
       "      <td>1620.000000</td>\n",
       "      <td>1020</td>\n",
       "      <td>1050.000000</td>\n",
       "      <td>990</td>\n",
       "    </tr>\n",
       "    <tr>\n",
       "      <th>2</th>\n",
       "      <td>2020-10-01</td>\n",
       "      <td>1205.000000</td>\n",
       "      <td>900</td>\n",
       "      <td>890.000000</td>\n",
       "      <td>765</td>\n",
       "    </tr>\n",
       "    <tr>\n",
       "      <th>3</th>\n",
       "      <td>2020-09-01</td>\n",
       "      <td>1095.000000</td>\n",
       "      <td>950</td>\n",
       "      <td>740.000000</td>\n",
       "      <td>680</td>\n",
       "    </tr>\n",
       "    <tr>\n",
       "      <th>4</th>\n",
       "      <td>2020-08-01</td>\n",
       "      <td>1240.000000</td>\n",
       "      <td>905</td>\n",
       "      <td>775.000000</td>\n",
       "      <td>840</td>\n",
       "    </tr>\n",
       "    <tr>\n",
       "      <th>...</th>\n",
       "      <td>...</td>\n",
       "      <td>...</td>\n",
       "      <td>...</td>\n",
       "      <td>...</td>\n",
       "      <td>...</td>\n",
       "    </tr>\n",
       "    <tr>\n",
       "      <th>127</th>\n",
       "      <td>2010-05-01</td>\n",
       "      <td>328.756073</td>\n",
       "      <td>1280</td>\n",
       "      <td>640.454468</td>\n",
       "      <td>270</td>\n",
       "    </tr>\n",
       "    <tr>\n",
       "      <th>128</th>\n",
       "      <td>2010-04-01</td>\n",
       "      <td>393.581207</td>\n",
       "      <td>1810</td>\n",
       "      <td>779.683655</td>\n",
       "      <td>340</td>\n",
       "    </tr>\n",
       "    <tr>\n",
       "      <th>129</th>\n",
       "      <td>2010-03-01</td>\n",
       "      <td>324.125702</td>\n",
       "      <td>1480</td>\n",
       "      <td>566.198853</td>\n",
       "      <td>295</td>\n",
       "    </tr>\n",
       "    <tr>\n",
       "      <th>130</th>\n",
       "      <td>2010-02-01</td>\n",
       "      <td>310.234589</td>\n",
       "      <td>1380</td>\n",
       "      <td>566.198853</td>\n",
       "      <td>235</td>\n",
       "    </tr>\n",
       "    <tr>\n",
       "      <th>131</th>\n",
       "      <td>2010-01-01</td>\n",
       "      <td>291.713135</td>\n",
       "      <td>1540</td>\n",
       "      <td>779.683655</td>\n",
       "      <td>255</td>\n",
       "    </tr>\n",
       "  </tbody>\n",
       "</table>\n",
       "<p>132 rows × 5 columns</p>\n",
       "</div>"
      ],
      "text/plain": [
       "         Waktu         WIKA  BISI         BSDE  NIKL\n",
       "0   2020-12-01  1985.000000  1030  1225.000000  1445\n",
       "1   2020-11-01  1620.000000  1020  1050.000000   990\n",
       "2   2020-10-01  1205.000000   900   890.000000   765\n",
       "3   2020-09-01  1095.000000   950   740.000000   680\n",
       "4   2020-08-01  1240.000000   905   775.000000   840\n",
       "..         ...          ...   ...          ...   ...\n",
       "127 2010-05-01   328.756073  1280   640.454468   270\n",
       "128 2010-04-01   393.581207  1810   779.683655   340\n",
       "129 2010-03-01   324.125702  1480   566.198853   295\n",
       "130 2010-02-01   310.234589  1380   566.198853   235\n",
       "131 2010-01-01   291.713135  1540   779.683655   255\n",
       "\n",
       "[132 rows x 5 columns]"
      ]
     },
     "execution_count": 3,
     "metadata": {},
     "output_type": "execute_result"
    }
   ],
   "source": [
    "data"
   ]
  },
  {
   "cell_type": "code",
   "execution_count": 4,
   "id": "e28eb04e",
   "metadata": {},
   "outputs": [
    {
     "name": "stdout",
     "output_type": "stream",
     "text": [
      "<class 'pandas.core.frame.DataFrame'>\n",
      "RangeIndex: 132 entries, 0 to 131\n",
      "Data columns (total 5 columns):\n",
      " #   Column  Non-Null Count  Dtype         \n",
      "---  ------  --------------  -----         \n",
      " 0   Waktu   132 non-null    datetime64[ns]\n",
      " 1   WIKA    132 non-null    float64       \n",
      " 2   BISI    132 non-null    int64         \n",
      " 3   BSDE    132 non-null    float64       \n",
      " 4   NIKL    132 non-null    int64         \n",
      "dtypes: datetime64[ns](1), float64(2), int64(2)\n",
      "memory usage: 5.3 KB\n"
     ]
    }
   ],
   "source": [
    "data.info()"
   ]
  },
  {
   "cell_type": "code",
   "execution_count": 5,
   "id": "17be0119",
   "metadata": {},
   "outputs": [
    {
     "data": {
      "text/plain": [
       "Waktu    datetime64[ns]\n",
       "WIKA            float64\n",
       "BISI              int64\n",
       "BSDE            float64\n",
       "NIKL              int64\n",
       "dtype: object"
      ]
     },
     "execution_count": 5,
     "metadata": {},
     "output_type": "execute_result"
    }
   ],
   "source": [
    "data.dtypes"
   ]
  },
  {
   "cell_type": "code",
   "execution_count": 6,
   "id": "2584978d",
   "metadata": {},
   "outputs": [
    {
     "data": {
      "text/html": [
       "<div>\n",
       "<style scoped>\n",
       "    .dataframe tbody tr th:only-of-type {\n",
       "        vertical-align: middle;\n",
       "    }\n",
       "\n",
       "    .dataframe tbody tr th {\n",
       "        vertical-align: top;\n",
       "    }\n",
       "\n",
       "    .dataframe thead th {\n",
       "        text-align: right;\n",
       "    }\n",
       "</style>\n",
       "<table border=\"1\" class=\"dataframe\">\n",
       "  <thead>\n",
       "    <tr style=\"text-align: right;\">\n",
       "      <th></th>\n",
       "      <th>Waktu</th>\n",
       "      <th>WIKA</th>\n",
       "      <th>BISI</th>\n",
       "      <th>BSDE</th>\n",
       "      <th>NIKL</th>\n",
       "    </tr>\n",
       "  </thead>\n",
       "  <tbody>\n",
       "    <tr>\n",
       "      <th>0</th>\n",
       "      <td>2020-12-01</td>\n",
       "      <td>1985</td>\n",
       "      <td>1030</td>\n",
       "      <td>1225</td>\n",
       "      <td>1445</td>\n",
       "    </tr>\n",
       "    <tr>\n",
       "      <th>1</th>\n",
       "      <td>2020-11-01</td>\n",
       "      <td>1620</td>\n",
       "      <td>1020</td>\n",
       "      <td>1050</td>\n",
       "      <td>990</td>\n",
       "    </tr>\n",
       "    <tr>\n",
       "      <th>2</th>\n",
       "      <td>2020-10-01</td>\n",
       "      <td>1205</td>\n",
       "      <td>900</td>\n",
       "      <td>890</td>\n",
       "      <td>765</td>\n",
       "    </tr>\n",
       "    <tr>\n",
       "      <th>3</th>\n",
       "      <td>2020-09-01</td>\n",
       "      <td>1095</td>\n",
       "      <td>950</td>\n",
       "      <td>740</td>\n",
       "      <td>680</td>\n",
       "    </tr>\n",
       "    <tr>\n",
       "      <th>4</th>\n",
       "      <td>2020-08-01</td>\n",
       "      <td>1240</td>\n",
       "      <td>905</td>\n",
       "      <td>775</td>\n",
       "      <td>840</td>\n",
       "    </tr>\n",
       "    <tr>\n",
       "      <th>...</th>\n",
       "      <td>...</td>\n",
       "      <td>...</td>\n",
       "      <td>...</td>\n",
       "      <td>...</td>\n",
       "      <td>...</td>\n",
       "    </tr>\n",
       "    <tr>\n",
       "      <th>127</th>\n",
       "      <td>2010-05-01</td>\n",
       "      <td>328</td>\n",
       "      <td>1280</td>\n",
       "      <td>640</td>\n",
       "      <td>270</td>\n",
       "    </tr>\n",
       "    <tr>\n",
       "      <th>128</th>\n",
       "      <td>2010-04-01</td>\n",
       "      <td>393</td>\n",
       "      <td>1810</td>\n",
       "      <td>779</td>\n",
       "      <td>340</td>\n",
       "    </tr>\n",
       "    <tr>\n",
       "      <th>129</th>\n",
       "      <td>2010-03-01</td>\n",
       "      <td>324</td>\n",
       "      <td>1480</td>\n",
       "      <td>566</td>\n",
       "      <td>295</td>\n",
       "    </tr>\n",
       "    <tr>\n",
       "      <th>130</th>\n",
       "      <td>2010-02-01</td>\n",
       "      <td>310</td>\n",
       "      <td>1380</td>\n",
       "      <td>566</td>\n",
       "      <td>235</td>\n",
       "    </tr>\n",
       "    <tr>\n",
       "      <th>131</th>\n",
       "      <td>2010-01-01</td>\n",
       "      <td>291</td>\n",
       "      <td>1540</td>\n",
       "      <td>779</td>\n",
       "      <td>255</td>\n",
       "    </tr>\n",
       "  </tbody>\n",
       "</table>\n",
       "<p>132 rows × 5 columns</p>\n",
       "</div>"
      ],
      "text/plain": [
       "         Waktu  WIKA  BISI  BSDE  NIKL\n",
       "0   2020-12-01  1985  1030  1225  1445\n",
       "1   2020-11-01  1620  1020  1050   990\n",
       "2   2020-10-01  1205   900   890   765\n",
       "3   2020-09-01  1095   950   740   680\n",
       "4   2020-08-01  1240   905   775   840\n",
       "..         ...   ...   ...   ...   ...\n",
       "127 2010-05-01   328  1280   640   270\n",
       "128 2010-04-01   393  1810   779   340\n",
       "129 2010-03-01   324  1480   566   295\n",
       "130 2010-02-01   310  1380   566   235\n",
       "131 2010-01-01   291  1540   779   255\n",
       "\n",
       "[132 rows x 5 columns]"
      ]
     },
     "execution_count": 6,
     "metadata": {},
     "output_type": "execute_result"
    }
   ],
   "source": [
    "data1 = data.astype({'WIKA':'int', 'BSDE':'int'})\n",
    "data1"
   ]
  },
  {
   "cell_type": "code",
   "execution_count": 7,
   "id": "ee22ecc3",
   "metadata": {},
   "outputs": [
    {
     "data": {
      "text/plain": [
       "Text(0, 0.5, 'HARGA SAHAM')"
      ]
     },
     "execution_count": 7,
     "metadata": {},
     "output_type": "execute_result"
    },
    {
     "data": {
      "image/png": "[encoded data removed]",
      "text/plain": [
       "<Figure size 1224x720 with 2 Axes>"
      ]
     },
     "metadata": {
      "needs_background": "light"
     },
     "output_type": "display_data"
    }
   ],
   "source": [
    "plt.figure(figsize=(17,10))\n",
    "\n",
    "plt.subplot(2,2,1)\n",
    "plt.scatter(data1['Waktu'], data1['WIKA'], s=5, color='red')\n",
    "plt.scatter(data1['Waktu'], data1['BISI'], s=5, color='green')\n",
    "\n",
    "plt.title('DATA HARGA SAHAM WIKA dan BISI')\n",
    "plt.xlabel('TAHUN')\n",
    "plt.ylabel('HARGA SAHAM')\n",
    "\n",
    "\n",
    "plt.subplot(2,2,2)\n",
    "plt.scatter(data1['Waktu'], data1['BSDE'], s=5, color='blue')\n",
    "plt.scatter(data1['Waktu'], data1['NIKL'], s=5, color='black')\n",
    "plt.title('DATA HARGA SAHAM BSDE dan NIKL')\n",
    "plt.xlabel('TAHUN')\n",
    "plt.ylabel('HARGA SAHAM')"
   ]
  },
  {
   "cell_type": "code",
   "execution_count": 8,
   "id": "bdc5fd0b",
   "metadata": {},
   "outputs": [
    {
     "data": {
      "text/plain": [
       "KMeans(n_clusters=6)"
      ]
     },
     "execution_count": 8,
     "metadata": {},
     "output_type": "execute_result"
    }
   ],
   "source": [
    "km = KMeans(n_clusters=6)\n",
    "km"
   ]
  },
  {
   "cell_type": "code",
   "execution_count": 11,
   "id": "c67bf233",
   "metadata": {},
   "outputs": [
    {
     "data": {
      "text/plain": [
       "array([1, 2, 5, 5, 5, 5, 5, 5, 5, 5, 1, 1, 1, 2, 1, 1, 1, 3, 3, 3, 3, 1,\n",
       "       2, 1, 2, 2, 5, 2, 2, 2, 2, 2, 2, 2, 1, 1, 2, 1, 1, 2, 1, 1, 1, 3,\n",
       "       3, 3, 3, 3, 3, 3, 3, 3, 4, 3, 3, 1, 3, 3, 3, 3, 3, 3, 3, 3, 3, 3,\n",
       "       3, 4, 3, 4, 4, 4, 4, 3, 3, 3, 3, 3, 1, 1, 1, 1, 1, 1, 2, 2, 2, 2,\n",
       "       2, 1, 1, 3, 1, 1, 2, 2, 2, 2, 5, 5, 5, 5, 5, 5, 5, 5, 0, 0, 0, 0,\n",
       "       0, 0, 0, 0, 0, 0, 0, 0, 0, 0, 0, 0, 0, 0, 0, 0, 0, 0, 0, 0, 0, 0])"
      ]
     },
     "execution_count": 11,
     "metadata": {},
     "output_type": "execute_result"
    }
   ],
   "source": [
    "y_predicted = km.fit_predict(data1[['WIKA']])\n",
    "y_predicted"
   ]
  },
  {
   "cell_type": "code",
   "execution_count": 12,
   "id": "2e1ca694",
   "metadata": {},
   "outputs": [
    {
     "data": {
      "text/plain": [
       "array([5, 5, 1, 1, 1, 1, 1, 1, 1, 3, 1, 5, 5, 5, 2, 2, 2, 2, 2, 2, 2, 2,\n",
       "       2, 2, 0, 2, 2, 0, 2, 0, 0, 0, 4, 4, 0, 0, 0, 0, 0, 2, 2, 2, 0, 0,\n",
       "       0, 0, 0, 0, 4, 0, 4, 0, 0, 0, 0, 0, 0, 0, 2, 2, 2, 2, 5, 5, 5, 2,\n",
       "       0, 0, 2, 2, 5, 5, 1, 3, 3, 3, 3, 3, 3, 3, 3, 3, 3, 3, 3, 3, 3, 3,\n",
       "       3, 3, 3, 1, 1, 1, 1, 1, 1, 1, 5, 5, 5, 5, 1, 1, 1, 1, 1, 1, 1, 1,\n",
       "       5, 5, 5, 2, 2, 2, 0, 0, 5, 2, 0, 4, 4, 4, 0, 2, 2, 2, 0, 2, 2, 2])"
      ]
     },
     "execution_count": 12,
     "metadata": {},
     "output_type": "execute_result"
    }
   ],
   "source": [
    "y_predicted = km.fit_predict(data1[['BISI']])\n",
    "y_predicted"
   ]
  },
  {
   "cell_type": "code",
   "execution_count": 13,
   "id": "42b6618e",
   "metadata": {},
   "outputs": [
    {
     "data": {
      "text/plain": [
       "array([2, 2, 0, 0, 0, 0, 0, 0, 0, 0, 2, 2, 4, 4, 4, 4, 4, 4, 1, 4, 4, 4,\n",
       "       4, 4, 4, 4, 2, 2, 2, 4, 1, 1, 1, 5, 5, 5, 1, 1, 5, 5, 5, 5, 5, 5,\n",
       "       5, 5, 5, 5, 5, 1, 3, 3, 3, 3, 3, 5, 5, 5, 1, 5, 5, 1, 1, 4, 1, 5,\n",
       "       1, 5, 5, 3, 3, 3, 5, 5, 1, 1, 1, 1, 4, 1, 1, 1, 1, 4, 4, 4, 1, 4,\n",
       "       4, 1, 5, 3, 5, 5, 1, 4, 2, 2, 4, 2, 2, 2, 2, 2, 4, 4, 2, 2, 2, 0,\n",
       "       0, 0, 2, 2, 0, 0, 0, 0, 0, 0, 0, 2, 0, 0, 0, 0, 0, 0, 0, 0, 0, 0])"
      ]
     },
     "execution_count": 13,
     "metadata": {},
     "output_type": "execute_result"
    }
   ],
   "source": [
    "y_predicted = km.fit_predict(data1[['BSDE']])\n",
    "y_predicted"
   ]
  },
  {
   "cell_type": "code",
   "execution_count": 14,
   "id": "4527efe9",
   "metadata": {},
   "outputs": [
    {
     "data": {
      "text/plain": [
       "array([5, 0, 0, 0, 0, 0, 2, 2, 2, 2, 2, 0, 0, 0, 0, 0, 5, 5, 5, 5, 4, 4,\n",
       "       4, 4, 1, 1, 1, 3, 4, 1, 3, 3, 3, 3, 1, 1, 3, 4, 4, 1, 1, 1, 3, 3,\n",
       "       1, 4, 5, 1, 4, 5, 0, 0, 0, 2, 2, 2, 2, 2, 2, 2, 2, 2, 2, 2, 2, 2,\n",
       "       2, 2, 2, 2, 2, 2, 2, 2, 2, 2, 2, 2, 2, 2, 2, 2, 2, 2, 2, 2, 2, 2,\n",
       "       2, 2, 2, 2, 2, 2, 2, 2, 2, 2, 2, 2, 2, 2, 2, 2, 2, 2, 2, 2, 2, 2,\n",
       "       2, 2, 2, 2, 2, 2, 2, 2, 2, 2, 2, 2, 2, 2, 2, 2, 2, 2, 2, 2, 2, 2])"
      ]
     },
     "execution_count": 14,
     "metadata": {},
     "output_type": "execute_result"
    }
   ],
   "source": [
    "y_predicted = km.fit_predict(data1[['NIKL']])\n",
    "y_predicted"
   ]
  },
  {
   "cell_type": "code",
   "execution_count": 15,
   "id": "e8d3e68a",
   "metadata": {},
   "outputs": [
    {
     "data": {
      "text/html": [
       "<div>\n",
       "<style scoped>\n",
       "    .dataframe tbody tr th:only-of-type {\n",
       "        vertical-align: middle;\n",
       "    }\n",
       "\n",
       "    .dataframe tbody tr th {\n",
       "        vertical-align: top;\n",
       "    }\n",
       "\n",
       "    .dataframe thead th {\n",
       "        text-align: right;\n",
       "    }\n",
       "</style>\n",
       "<table border=\"1\" class=\"dataframe\">\n",
       "  <thead>\n",
       "    <tr style=\"text-align: right;\">\n",
       "      <th></th>\n",
       "      <th>Waktu</th>\n",
       "      <th>WIKA</th>\n",
       "      <th>BISI</th>\n",
       "      <th>BSDE</th>\n",
       "      <th>NIKL</th>\n",
       "      <th>cluster</th>\n",
       "    </tr>\n",
       "  </thead>\n",
       "  <tbody>\n",
       "    <tr>\n",
       "      <th>0</th>\n",
       "      <td>2020-12-01</td>\n",
       "      <td>1985</td>\n",
       "      <td>1030</td>\n",
       "      <td>1225</td>\n",
       "      <td>1445</td>\n",
       "      <td>5</td>\n",
       "    </tr>\n",
       "    <tr>\n",
       "      <th>1</th>\n",
       "      <td>2020-11-01</td>\n",
       "      <td>1620</td>\n",
       "      <td>1020</td>\n",
       "      <td>1050</td>\n",
       "      <td>990</td>\n",
       "      <td>0</td>\n",
       "    </tr>\n",
       "    <tr>\n",
       "      <th>2</th>\n",
       "      <td>2020-10-01</td>\n",
       "      <td>1205</td>\n",
       "      <td>900</td>\n",
       "      <td>890</td>\n",
       "      <td>765</td>\n",
       "      <td>0</td>\n",
       "    </tr>\n",
       "    <tr>\n",
       "      <th>3</th>\n",
       "      <td>2020-09-01</td>\n",
       "      <td>1095</td>\n",
       "      <td>950</td>\n",
       "      <td>740</td>\n",
       "      <td>680</td>\n",
       "      <td>0</td>\n",
       "    </tr>\n",
       "    <tr>\n",
       "      <th>4</th>\n",
       "      <td>2020-08-01</td>\n",
       "      <td>1240</td>\n",
       "      <td>905</td>\n",
       "      <td>775</td>\n",
       "      <td>840</td>\n",
       "      <td>0</td>\n",
       "    </tr>\n",
       "    <tr>\n",
       "      <th>...</th>\n",
       "      <td>...</td>\n",
       "      <td>...</td>\n",
       "      <td>...</td>\n",
       "      <td>...</td>\n",
       "      <td>...</td>\n",
       "      <td>...</td>\n",
       "    </tr>\n",
       "    <tr>\n",
       "      <th>127</th>\n",
       "      <td>2010-05-01</td>\n",
       "      <td>328</td>\n",
       "      <td>1280</td>\n",
       "      <td>640</td>\n",
       "      <td>270</td>\n",
       "      <td>2</td>\n",
       "    </tr>\n",
       "    <tr>\n",
       "      <th>128</th>\n",
       "      <td>2010-04-01</td>\n",
       "      <td>393</td>\n",
       "      <td>1810</td>\n",
       "      <td>779</td>\n",
       "      <td>340</td>\n",
       "      <td>2</td>\n",
       "    </tr>\n",
       "    <tr>\n",
       "      <th>129</th>\n",
       "      <td>2010-03-01</td>\n",
       "      <td>324</td>\n",
       "      <td>1480</td>\n",
       "      <td>566</td>\n",
       "      <td>295</td>\n",
       "      <td>2</td>\n",
       "    </tr>\n",
       "    <tr>\n",
       "      <th>130</th>\n",
       "      <td>2010-02-01</td>\n",
       "      <td>310</td>\n",
       "      <td>1380</td>\n",
       "      <td>566</td>\n",
       "      <td>235</td>\n",
       "      <td>2</td>\n",
       "    </tr>\n",
       "    <tr>\n",
       "      <th>131</th>\n",
       "      <td>2010-01-01</td>\n",
       "      <td>291</td>\n",
       "      <td>1540</td>\n",
       "      <td>779</td>\n",
       "      <td>255</td>\n",
       "      <td>2</td>\n",
       "    </tr>\n",
       "  </tbody>\n",
       "</table>\n",
       "<p>132 rows × 6 columns</p>\n",
       "</div>"
      ],
      "text/plain": [
       "         Waktu  WIKA  BISI  BSDE  NIKL  cluster\n",
       "0   2020-12-01  1985  1030  1225  1445        5\n",
       "1   2020-11-01  1620  1020  1050   990        0\n",
       "2   2020-10-01  1205   900   890   765        0\n",
       "3   2020-09-01  1095   950   740   680        0\n",
       "4   2020-08-01  1240   905   775   840        0\n",
       "..         ...   ...   ...   ...   ...      ...\n",
       "127 2010-05-01   328  1280   640   270        2\n",
       "128 2010-04-01   393  1810   779   340        2\n",
       "129 2010-03-01   324  1480   566   295        2\n",
       "130 2010-02-01   310  1380   566   235        2\n",
       "131 2010-01-01   291  1540   779   255        2\n",
       "\n",
       "[132 rows x 6 columns]"
      ]
     },
     "execution_count": 15,
     "metadata": {},
     "output_type": "execute_result"
    }
   ],
   "source": [
    "data1['cluster']=y_predicted\n",
    "data1"
   ]
  },
  {
   "cell_type": "code",
   "execution_count": 19,
   "id": "892accc4",
   "metadata": {},
   "outputs": [
    {
     "data": {
      "text/plain": [
       "Text(0, 0.5, 'HARGA SAHAM')"
      ]
     },
     "execution_count": 19,
     "metadata": {},
     "output_type": "execute_result"
    },
    {
     "data": {
      "image/png": "[encoded data removed]",
      "text/plain": [
       "<Figure size 1224x720 with 2 Axes>"
      ]
     },
     "metadata": {
      "needs_background": "light"
     },
     "output_type": "display_data"
    }
   ],
   "source": [
    "data11 = data1[data1.cluster==0]\n",
    "data12 = data1[data1.cluster==1]\n",
    "data13 = data1[data1.cluster==2]\n",
    "data14 = data1[data1.cluster==3]\n",
    "data15 = data1[data1.cluster==4]\n",
    "data16 = data1[data1.cluster==5]\n",
    "\n",
    "plt.figure(figsize=(17,10))\n",
    "\n",
    "plt.subplot(2,2,1)\n",
    "plt.scatter(data11['BISI'], data11['WIKA'], s=10, color='green')\n",
    "plt.scatter(data12['BISI'], data12['WIKA'], s=10, color='red')\n",
    "plt.scatter(data13['BISI'], data13['WIKA'], s=10, color='yellow')\n",
    "plt.scatter(data14['BISI'], data14['WIKA'], s=10, color='black')\n",
    "plt.scatter(data15['BISI'], data15['WIKA'], s=10, color='pink')\n",
    "plt.scatter(data16['BISI'], data16['WIKA'], s=10, color='blue')\n",
    "\n",
    "plt.title('DATA HARGA SAHAM WIKA dan BISI')\n",
    "plt.xlabel('TAHUN')\n",
    "plt.ylabel('HARGA SAHAM')\n",
    "\n",
    "\n",
    "plt.subplot(2,2,2)\n",
    "plt.scatter(data11['NIKL'], data11['BSDE'], s=10, color='green')\n",
    "plt.scatter(data12['NIKL'], data12['BSDE'], s=10, color='red')\n",
    "plt.scatter(data13['NIKL'], data13['BSDE'], s=10, color='yellow')\n",
    "plt.scatter(data14['NIKL'], data14['BSDE'], s=10, color='black')\n",
    "plt.scatter(data15['NIKL'], data15['BSDE'], s=10, color='pink')\n",
    "plt.scatter(data16['NIKL'], data16['BSDE'], s=10, color='blue')\n",
    "\n",
    "\n",
    "plt.title('DATA HARGA SAHAM BSDE dan NIKL')\n",
    "plt.xlabel('TAHUN')\n",
    "plt.ylabel('HARGA SAHAM')"
   ]
  },
  {
   "cell_type": "code",
   "execution_count": 20,
   "id": "16659e33",
   "metadata": {},
   "outputs": [
    {
     "data": {
      "text/plain": [
       "array([[ 767.30769231],\n",
       "       [3777.27272727],\n",
       "       [ 233.55952381],\n",
       "       [4875.625     ],\n",
       "       [2766.66666667],\n",
       "       [1520.71428571]])"
      ]
     },
     "execution_count": 20,
     "metadata": {},
     "output_type": "execute_result"
    }
   ],
   "source": [
    "km.cluster_centers_"
   ]
  },
  {
   "cell_type": "code",
   "execution_count": 21,
   "id": "6150fb8e",
   "metadata": {},
   "outputs": [
    {
     "data": {
      "text/plain": [
       "array([5, 0, 3, 3, 3, 3, 3, 3, 3, 3, 5, 5, 5, 0, 5, 5, 5, 2, 2, 5, 2, 5,\n",
       "       0, 5, 0, 0, 3, 0, 0, 0, 3, 0, 0, 0, 5, 5, 0, 0, 5, 0, 5, 5, 5, 2,\n",
       "       2, 2, 2, 2, 2, 2, 2, 2, 4, 2, 2, 5, 2, 2, 2, 2, 2, 2, 2, 2, 2, 2,\n",
       "       2, 4, 2, 4, 4, 4, 4, 2, 2, 2, 2, 2, 5, 5, 5, 5, 5, 0, 0, 0, 0, 0,\n",
       "       0, 5, 5, 2, 5, 5, 0, 0, 0, 0, 3, 3, 3, 3, 3, 3, 3, 3, 1, 1, 1, 1,\n",
       "       1, 1, 1, 1, 1, 1, 1, 1, 1, 1, 1, 1, 1, 1, 1, 1, 1, 1, 1, 1, 1, 1])"
      ]
     },
     "execution_count": 21,
     "metadata": {},
     "output_type": "execute_result"
    }
   ],
   "source": [
    "y_predicted = km.fit_predict(data1[['WIKA']])\n",
    "y_predicted"
   ]
  },
  {
   "cell_type": "code",
   "execution_count": 22,
   "id": "4a8c37e8",
   "metadata": {},
   "outputs": [
    {
     "data": {
      "text/plain": [
       "array([5, 5, 3, 3, 3, 3, 3, 3, 3, 1, 3, 5, 5, 5, 0, 0, 0, 0, 0, 0, 0, 0,\n",
       "       0, 0, 4, 4, 0, 4, 0, 4, 4, 2, 2, 2, 4, 4, 4, 4, 4, 0, 0, 0, 4, 4,\n",
       "       2, 2, 4, 4, 2, 4, 2, 4, 4, 4, 4, 4, 4, 4, 0, 0, 0, 0, 5, 5, 5, 0,\n",
       "       4, 4, 0, 0, 5, 5, 3, 1, 1, 1, 1, 1, 1, 1, 1, 1, 1, 1, 1, 1, 1, 1,\n",
       "       1, 1, 1, 3, 3, 3, 3, 3, 3, 3, 5, 5, 5, 5, 3, 3, 3, 3, 3, 3, 3, 3,\n",
       "       5, 5, 5, 0, 0, 0, 4, 4, 5, 0, 2, 2, 2, 2, 4, 0, 0, 0, 4, 0, 0, 0])"
      ]
     },
     "execution_count": 22,
     "metadata": {},
     "output_type": "execute_result"
    }
   ],
   "source": [
    "y_predicted = km.fit_predict(data1[['BISI']])\n",
    "y_predicted"
   ]
  },
  {
   "cell_type": "code",
   "execution_count": 17,
   "id": "5b2ce4e2",
   "metadata": {},
   "outputs": [
    {
     "data": {
      "text/plain": [
       "array([2, 0, 0, 4, 4, 4, 4, 4, 4, 4, 0, 0, 2, 2, 2, 2, 2, 2, 5, 2, 2, 2,\n",
       "       2, 2, 2, 2, 0, 0, 2, 2, 5, 5, 5, 1, 1, 1, 5, 5, 1, 1, 1, 1, 1, 1,\n",
       "       1, 1, 1, 1, 1, 5, 3, 3, 3, 3, 3, 1, 1, 1, 5, 1, 1, 5, 5, 2, 5, 1,\n",
       "       5, 1, 1, 3, 3, 3, 1, 1, 5, 5, 5, 5, 5, 5, 5, 5, 5, 2, 2, 2, 5, 2,\n",
       "       2, 5, 1, 3, 1, 1, 5, 2, 0, 2, 2, 0, 0, 0, 2, 2, 2, 2, 0, 0, 0, 4,\n",
       "       0, 0, 0, 0, 0, 0, 0, 4, 4, 4, 0, 0, 4, 0, 4, 4, 4, 4, 4, 4, 4, 4])"
      ]
     },
     "execution_count": 17,
     "metadata": {},
     "output_type": "execute_result"
    }
   ],
   "source": [
    "y_predicted = km.fit_predict(data1[['BSDE']])\n",
    "y_predicted"
   ]
  },
  {
   "cell_type": "code",
   "execution_count": 23,
   "id": "bc86bc66",
   "metadata": {},
   "outputs": [
    {
     "data": {
      "text/plain": [
       "array([3, 5, 5, 5, 5, 5, 0, 0, 0, 0, 0, 5, 5, 5, 5, 5, 3, 3, 3, 3, 4, 4,\n",
       "       4, 4, 1, 1, 1, 2, 4, 1, 2, 2, 2, 2, 1, 1, 2, 4, 4, 1, 1, 1, 2, 2,\n",
       "       1, 4, 3, 1, 4, 3, 5, 5, 5, 0, 0, 0, 0, 0, 0, 0, 0, 0, 0, 0, 0, 0,\n",
       "       0, 0, 0, 0, 0, 0, 0, 0, 0, 0, 0, 0, 0, 0, 0, 0, 0, 0, 0, 0, 0, 0,\n",
       "       0, 0, 0, 0, 0, 0, 0, 0, 0, 0, 0, 0, 0, 0, 0, 0, 0, 0, 0, 0, 0, 0,\n",
       "       0, 0, 0, 0, 0, 0, 0, 0, 0, 0, 0, 0, 0, 0, 0, 0, 0, 0, 0, 0, 0, 0])"
      ]
     },
     "execution_count": 23,
     "metadata": {},
     "output_type": "execute_result"
    }
   ],
   "source": [
    "y_predicted = km.fit_predict(data1[['NIKL']])\n",
    "y_predicted"
   ]
  },
  {
   "cell_type": "code",
   "execution_count": 24,
   "id": "f0c2a9a5",
   "metadata": {},
   "outputs": [
    {
     "data": {
      "text/plain": [
       "Text(0, 0.5, 'HARGA SAHAM')"
      ]
     },
     "execution_count": 24,
     "metadata": {},
     "output_type": "execute_result"
    },
    {
     "data": {
      "image/png": "[encoded data removed]",
      "text/plain": [
       "<Figure size 1224x720 with 2 Axes>"
      ]
     },
     "metadata": {
      "needs_background": "light"
     },
     "output_type": "display_data"
    }
   ],
   "source": [
    "data11 = data1[data1.cluster==0]\n",
    "data12 = data1[data1.cluster==1]\n",
    "data13 = data1[data1.cluster==2]\n",
    "data14 = data1[data1.cluster==3]\n",
    "data15 = data1[data1.cluster==4]\n",
    "data16 = data1[data1.cluster==5]\n",
    "\n",
    "plt.figure(figsize=(17,10))\n",
    "\n",
    "plt.subplot(2,2,1)\n",
    "plt.scatter(data11['BISI'], data11['WIKA'], s=10, color='green')\n",
    "plt.scatter(data12['BISI'], data12['WIKA'], s=10, color='red')\n",
    "plt.scatter(data13['BISI'], data13['WIKA'], s=10, color='yellow')\n",
    "plt.scatter(data14['BISI'], data14['WIKA'], s=10, color='black')\n",
    "plt.scatter(data15['BISI'], data15['WIKA'], s=10, color='pink')\n",
    "plt.scatter(data16['BISI'], data16['WIKA'], s=10, color='blue')\n",
    "\n",
    "plt.title('DATA HARGA SAHAM WIKA dan BISI')\n",
    "plt.xlabel('TAHUN')\n",
    "plt.ylabel('HARGA SAHAM')\n",
    "\n",
    "\n",
    "plt.subplot(2,2,2)\n",
    "plt.scatter(data11['NIKL'], data11['BSDE'], s=10, color='green')\n",
    "plt.scatter(data12['NIKL'], data12['BSDE'], s=10, color='red')\n",
    "plt.scatter(data13['NIKL'], data13['BSDE'], s=10, color='yellow')\n",
    "plt.scatter(data14['NIKL'], data14['BSDE'], s=10, color='black')\n",
    "plt.scatter(data15['NIKL'], data15['BSDE'], s=10, color='pink')\n",
    "plt.scatter(data16['NIKL'], data16['BSDE'], s=10, color='blue')\n",
    "\n",
    "\n",
    "plt.title('DATA HARGA SAHAM BSDE dan NIKL')\n",
    "plt.xlabel('TAHUN')\n",
    "plt.ylabel('HARGA SAHAM')"
   ]
  },
  {
   "cell_type": "code",
   "execution_count": 20,
   "id": "1f22bd53",
   "metadata": {},
   "outputs": [
    {
     "data": {
      "text/plain": [
       "array([[ 233.55952381],\n",
       "       [3777.27272727],\n",
       "       [2766.66666667],\n",
       "       [ 767.30769231],\n",
       "       [4875.625     ],\n",
       "       [1520.71428571]])"
      ]
     },
     "execution_count": 20,
     "metadata": {},
     "output_type": "execute_result"
    }
   ],
   "source": [
    "km.cluster_centers_"
   ]
  },
  {
   "cell_type": "code",
   "execution_count": 21,
   "id": "076a3678",
   "metadata": {},
   "outputs": [
    {
     "data": {
      "text/plain": [
       "array([5, 2, 1, 1, 1, 1, 1, 1, 1, 1, 5, 5, 5, 2, 5, 5, 5, 0, 0, 5, 0, 5,\n",
       "       2, 5, 2, 2, 1, 2, 2, 2, 1, 2, 2, 2, 5, 5, 2, 2, 5, 2, 5, 5, 5, 0,\n",
       "       0, 0, 0, 0, 0, 0, 0, 0, 4, 0, 0, 5, 0, 0, 0, 0, 0, 0, 0, 0, 0, 0,\n",
       "       0, 0, 0, 4, 4, 4, 4, 0, 0, 0, 0, 0, 5, 5, 5, 5, 5, 2, 2, 2, 2, 2,\n",
       "       2, 5, 5, 0, 5, 5, 2, 2, 2, 2, 1, 1, 1, 1, 1, 1, 1, 1, 3, 3, 3, 3,\n",
       "       3, 3, 3, 3, 3, 3, 3, 3, 3, 3, 3, 3, 3, 3, 3, 3, 3, 3, 3, 3, 3, 3])"
      ]
     },
     "execution_count": 21,
     "metadata": {},
     "output_type": "execute_result"
    }
   ],
   "source": [
    "y_predicted = km.fit_predict(data1[['WIKA']])\n",
    "y_predicted"
   ]
  },
  {
   "cell_type": "code",
   "execution_count": 22,
   "id": "4bb842e8",
   "metadata": {},
   "outputs": [
    {
     "data": {
      "text/plain": [
       "array([3, 3, 1, 1, 1, 1, 1, 1, 1, 4, 1, 3, 3, 3, 0, 0, 0, 0, 0, 0, 0, 0,\n",
       "       0, 0, 5, 0, 0, 5, 0, 5, 5, 5, 5, 2, 5, 5, 5, 5, 5, 0, 0, 0, 5, 5,\n",
       "       5, 5, 5, 5, 5, 5, 2, 5, 5, 5, 5, 5, 5, 5, 0, 0, 0, 0, 3, 3, 3, 0,\n",
       "       5, 5, 0, 0, 3, 3, 1, 4, 4, 4, 4, 4, 4, 4, 4, 4, 4, 4, 4, 4, 4, 4,\n",
       "       4, 4, 4, 1, 1, 1, 1, 1, 1, 1, 3, 3, 3, 3, 1, 1, 1, 1, 1, 1, 1, 1,\n",
       "       3, 3, 3, 0, 0, 0, 5, 5, 3, 0, 5, 2, 2, 2, 5, 0, 0, 0, 5, 0, 0, 0])"
      ]
     },
     "execution_count": 22,
     "metadata": {},
     "output_type": "execute_result"
    }
   ],
   "source": [
    "y_predicted = km.fit_predict(data1[['BISI']])\n",
    "y_predicted"
   ]
  },
  {
   "cell_type": "code",
   "execution_count": 23,
   "id": "3635cb52",
   "metadata": {},
   "outputs": [
    {
     "data": {
      "text/plain": [
       "array([2, 3, 3, 1, 1, 1, 1, 1, 1, 1, 3, 3, 2, 2, 2, 2, 2, 2, 5, 2, 2, 2,\n",
       "       2, 2, 2, 2, 3, 3, 2, 2, 5, 0, 5, 0, 0, 0, 0, 5, 0, 0, 0, 0, 0, 0,\n",
       "       0, 0, 0, 0, 0, 0, 4, 4, 4, 4, 4, 0, 0, 0, 5, 0, 0, 5, 5, 2, 5, 0,\n",
       "       5, 0, 0, 4, 4, 4, 0, 0, 5, 5, 5, 5, 5, 5, 5, 5, 5, 2, 2, 2, 5, 2,\n",
       "       2, 5, 0, 4, 0, 0, 5, 2, 3, 2, 2, 3, 3, 3, 2, 2, 2, 2, 3, 3, 3, 1,\n",
       "       3, 3, 3, 3, 3, 3, 3, 1, 1, 1, 3, 3, 1, 3, 1, 1, 1, 1, 1, 1, 1, 1])"
      ]
     },
     "execution_count": 23,
     "metadata": {},
     "output_type": "execute_result"
    }
   ],
   "source": [
    "y_predicted = km.fit_predict(data1[['BSDE']])\n",
    "y_predicted"
   ]
  },
  {
   "cell_type": "code",
   "execution_count": 24,
   "id": "368a5f57",
   "metadata": {},
   "outputs": [
    {
     "data": {
      "text/plain": [
       "array([5, 0, 0, 0, 0, 0, 2, 2, 2, 2, 2, 0, 0, 0, 0, 0, 5, 5, 5, 5, 3, 3,\n",
       "       3, 3, 4, 4, 4, 1, 3, 4, 1, 1, 1, 1, 4, 4, 1, 3, 3, 4, 4, 4, 1, 1,\n",
       "       4, 3, 5, 4, 3, 5, 0, 0, 0, 2, 2, 2, 2, 2, 2, 2, 2, 2, 2, 2, 2, 2,\n",
       "       2, 2, 2, 2, 2, 2, 2, 2, 2, 2, 2, 2, 2, 2, 2, 2, 2, 2, 2, 2, 2, 2,\n",
       "       2, 2, 2, 2, 2, 2, 2, 2, 2, 2, 2, 2, 2, 2, 2, 2, 2, 2, 2, 2, 2, 2,\n",
       "       2, 2, 2, 2, 2, 2, 2, 2, 2, 2, 2, 2, 2, 2, 2, 2, 2, 2, 2, 2, 2, 2])"
      ]
     },
     "execution_count": 24,
     "metadata": {},
     "output_type": "execute_result"
    }
   ],
   "source": [
    "y_predicted = km.fit_predict(data1[['NIKL']])\n",
    "y_predicted"
   ]
  },
  {
   "cell_type": "code",
   "execution_count": 25,
   "id": "9ea9dcec",
   "metadata": {},
   "outputs": [
    {
     "data": {
      "text/plain": [
       "Text(0, 0.5, 'HARGA SAHAM')"
      ]
     },
     "execution_count": 25,
     "metadata": {},
     "output_type": "execute_result"
    },
    {
     "data": {
      "image/png": "[encoded data removed]",
      "text/plain": [
       "<Figure size 1224x720 with 2 Axes>"
      ]
     },
     "metadata": {
      "needs_background": "light"
     },
     "output_type": "display_data"
    }
   ],
   "source": [
    "data11 = data1[data1.cluster==0]\n",
    "data12 = data1[data1.cluster==1]\n",
    "data13 = data1[data1.cluster==2]\n",
    "data14 = data1[data1.cluster==3]\n",
    "data15 = data1[data1.cluster==4]\n",
    "data16 = data1[data1.cluster==5]\n",
    "\n",
    "plt.figure(figsize=(17,10))\n",
    "\n",
    "plt.subplot(2,2,1)\n",
    "plt.scatter(data11['BISI'], data11['WIKA'], s=10, color='green')\n",
    "plt.scatter(data12['BISI'], data12['WIKA'], s=10, color='red')\n",
    "plt.scatter(data13['BISI'], data13['WIKA'], s=10, color='yellow')\n",
    "plt.scatter(data14['BISI'], data14['WIKA'], s=10, color='black')\n",
    "plt.scatter(data15['BISI'], data15['WIKA'], s=10, color='pink')\n",
    "plt.scatter(data16['BISI'], data16['WIKA'], s=10, color='blue')\n",
    "\n",
    "plt.title('DATA HARGA SAHAM WIKA dan BISI')\n",
    "plt.xlabel('TAHUN')\n",
    "plt.ylabel('HARGA SAHAM')\n",
    "\n",
    "\n",
    "plt.subplot(2,2,2)\n",
    "plt.scatter(data11['NIKL'], data11['BSDE'], s=10, color='green')\n",
    "plt.scatter(data12['NIKL'], data12['BSDE'], s=10, color='red')\n",
    "plt.scatter(data13['NIKL'], data13['BSDE'], s=10, color='yellow')\n",
    "plt.scatter(data14['NIKL'], data14['BSDE'], s=10, color='black')\n",
    "plt.scatter(data15['NIKL'], data15['BSDE'], s=10, color='pink')\n",
    "plt.scatter(data16['NIKL'], data16['BSDE'], s=10, color='blue')\n",
    "\n",
    "\n",
    "plt.title('DATA HARGA SAHAM BSDE dan NIKL')\n",
    "plt.xlabel('TAHUN')\n",
    "plt.ylabel('HARGA SAHAM')"
   ]
  },
  {
   "cell_type": "code",
   "execution_count": 26,
   "id": "376982e4",
   "metadata": {},
   "outputs": [
    {
     "data": {
      "text/plain": [
       "array([[ 233.55952381],\n",
       "       [3777.27272727],\n",
       "       [4875.625     ],\n",
       "       [1520.71428571],\n",
       "       [2766.66666667],\n",
       "       [ 767.30769231]])"
      ]
     },
     "execution_count": 26,
     "metadata": {},
     "output_type": "execute_result"
    }
   ],
   "source": [
    "km.cluster_centers_"
   ]
  },
  {
   "cell_type": "code",
   "execution_count": 27,
   "id": "b7fceb8e",
   "metadata": {},
   "outputs": [
    {
     "data": {
      "text/plain": [
       "array([5, 2, 4, 4, 4, 4, 4, 4, 4, 4, 5, 5, 5, 2, 5, 5, 5, 1, 1, 5, 1, 5,\n",
       "       2, 5, 2, 2, 4, 2, 2, 2, 4, 2, 2, 2, 5, 5, 2, 2, 5, 2, 5, 5, 5, 1,\n",
       "       1, 1, 1, 1, 1, 1, 1, 1, 3, 1, 1, 5, 1, 1, 1, 1, 1, 1, 1, 1, 1, 1,\n",
       "       1, 3, 1, 3, 3, 3, 3, 1, 1, 1, 1, 1, 5, 5, 5, 5, 5, 2, 2, 2, 2, 2,\n",
       "       2, 5, 5, 1, 5, 5, 2, 2, 2, 2, 4, 4, 4, 4, 4, 4, 4, 4, 0, 0, 0, 0,\n",
       "       0, 0, 0, 0, 0, 0, 0, 0, 0, 0, 0, 0, 0, 0, 0, 0, 0, 0, 0, 0, 0, 0])"
      ]
     },
     "execution_count": 27,
     "metadata": {},
     "output_type": "execute_result"
    }
   ],
   "source": [
    "y_predicted = km.fit_predict(data1[['WIKA']])\n",
    "y_predicted"
   ]
  },
  {
   "cell_type": "code",
   "execution_count": 28,
   "id": "984d4dfd",
   "metadata": {},
   "outputs": [
    {
     "data": {
      "text/plain": [
       "array([2, 2, 3, 3, 3, 3, 3, 3, 3, 0, 3, 2, 2, 2, 5, 5, 5, 5, 5, 5, 5, 5,\n",
       "       5, 5, 1, 5, 5, 1, 5, 1, 1, 1, 1, 4, 1, 1, 1, 1, 1, 5, 5, 5, 1, 1,\n",
       "       1, 1, 1, 1, 1, 1, 4, 1, 1, 1, 1, 1, 1, 1, 5, 5, 5, 5, 2, 2, 2, 5,\n",
       "       1, 1, 5, 5, 2, 2, 3, 0, 0, 0, 0, 0, 0, 0, 0, 0, 0, 0, 0, 0, 0, 0,\n",
       "       0, 0, 0, 3, 3, 3, 3, 3, 3, 3, 2, 2, 2, 2, 3, 3, 3, 3, 3, 3, 3, 3,\n",
       "       2, 2, 2, 5, 5, 5, 1, 1, 2, 5, 1, 4, 4, 4, 1, 5, 5, 5, 1, 5, 5, 5])"
      ]
     },
     "execution_count": 28,
     "metadata": {},
     "output_type": "execute_result"
    }
   ],
   "source": [
    "y_predicted = km.fit_predict(data1[['BISI']])\n",
    "y_predicted"
   ]
  },
  {
   "cell_type": "code",
   "execution_count": 29,
   "id": "486c50f7",
   "metadata": {},
   "outputs": [
    {
     "data": {
      "text/plain": [
       "array([2, 1, 1, 3, 3, 3, 3, 3, 3, 3, 1, 1, 2, 2, 2, 2, 2, 2, 4, 2, 2, 2,\n",
       "       2, 2, 2, 2, 1, 1, 2, 2, 4, 4, 4, 0, 0, 0, 4, 4, 0, 0, 0, 0, 0, 0,\n",
       "       0, 0, 0, 0, 0, 4, 5, 5, 5, 5, 5, 0, 0, 0, 4, 0, 0, 4, 4, 2, 4, 0,\n",
       "       4, 0, 0, 5, 5, 5, 0, 0, 4, 4, 4, 4, 4, 4, 4, 4, 4, 2, 2, 2, 4, 2,\n",
       "       2, 4, 0, 5, 0, 0, 4, 2, 1, 2, 2, 1, 1, 1, 2, 2, 2, 2, 1, 1, 1, 3,\n",
       "       1, 1, 1, 1, 1, 1, 1, 3, 3, 3, 1, 1, 3, 1, 3, 3, 3, 3, 3, 3, 3, 3])"
      ]
     },
     "execution_count": 29,
     "metadata": {},
     "output_type": "execute_result"
    }
   ],
   "source": [
    "y_predicted = km.fit_predict(data1[['BSDE']])\n",
    "y_predicted"
   ]
  },
  {
   "cell_type": "code",
   "execution_count": 59,
   "id": "9ff5bc6e",
   "metadata": {},
   "outputs": [
    {
     "data": {
      "text/plain": [
       "array([2, 4, 4, 4, 4, 4, 4, 0, 0, 0, 0, 4, 4, 4, 4, 4, 2, 2, 2, 2, 3, 3,\n",
       "       3, 3, 1, 1, 1, 5, 3, 1, 5, 5, 5, 5, 1, 1, 5, 3, 3, 1, 1, 1, 5, 5,\n",
       "       1, 3, 2, 1, 3, 2, 4, 4, 4, 4, 0, 0, 0, 0, 0, 0, 0, 0, 0, 0, 0, 0,\n",
       "       0, 0, 0, 0, 0, 0, 0, 0, 0, 0, 0, 0, 0, 0, 0, 0, 0, 0, 0, 0, 0, 0,\n",
       "       0, 0, 0, 0, 0, 0, 0, 0, 0, 0, 0, 0, 0, 0, 0, 0, 0, 0, 0, 0, 0, 0,\n",
       "       0, 0, 0, 0, 0, 0, 0, 0, 0, 0, 0, 0, 0, 0, 0, 0, 0, 0, 0, 0, 0, 0])"
      ]
     },
     "execution_count": 59,
     "metadata": {},
     "output_type": "execute_result"
    }
   ],
   "source": [
    "y_predicted = km.fit_predict(data1[['NIKL']])\n",
    "y_predicted"
   ]
  },
  {
   "cell_type": "code",
   "execution_count": 27,
   "id": "fb9bce1c",
   "metadata": {},
   "outputs": [
    {
     "data": {
      "text/plain": [
       "Text(0.5, 0, 'TAHUN')"
      ]
     },
     "execution_count": 27,
     "metadata": {},
     "output_type": "execute_result"
    },
    {
     "data": {
      "image/png": "[encoded data removed]",
      "text/plain": [
       "<Figure size 1224x720 with 2 Axes>"
      ]
     },
     "metadata": {
      "needs_background": "light"
     },
     "output_type": "display_data"
    }
   ],
   "source": [
    "data11 = data1[data1.cluster==0]\n",
    "data12 = data1[data1.cluster==1]\n",
    "data13 = data1[data1.cluster==2]\n",
    "data14 = data1[data1.cluster==3]\n",
    "data15 = data1[data1.cluster==4]\n",
    "data16 = data1[data1.cluster==5]\n",
    "\n",
    "plt.figure(figsize=(17,10))\n",
    "\n",
    "plt.subplot(2,2,1)\n",
    "plt.scatter(data11['BISI'], data11['WIKA'], s=10, color='green')\n",
    "plt.scatter(data12['BISI'], data12['WIKA'], s=10, color='red')\n",
    "plt.scatter(data13['BISI'], data13['WIKA'], s=10, color='yellow')\n",
    "plt.scatter(data14['BISI'], data14['WIKA'], s=10, color='black')\n",
    "plt.scatter(data15['BISI'], data15['WIKA'], s=10, color='pink')\n",
    "plt.scatter(data16['BISI'], data16['WIKA'], s=10, color='blue')\n",
    "\n",
    "plt.title('DATA HARGA SAHAM WIKA dan BISI')\n",
    "plt.xlabel('TAHUN')\n",
    "plt.ylabel('HARGA SAHAM')\n",
    "\n",
    "\n",
    "plt.subplot(2,2,2)\n",
    "plt.scatter(data11['NIKL'], data11['BSDE'], s=10, color='green')\n",
    "plt.scatter(data12['NIKL'], data12['BSDE'], s=10, color='red')\n",
    "plt.scatter(data13['NIKL'], data13['BSDE'], s=10, color='yellow')\n",
    "plt.scatter(data14['NIKL'], data14['BSDE'], s=10, color='black')\n",
    "plt.scatter(data15['NIKL'], data15['BSDE'], s=10, color='pink')\n",
    "plt.scatter(data16['NIKL'], data16['BSDE'], s=10, color='blue')\n",
    "\n",
    "\n",
    "plt.title('DATA HARGA SAHAM BSDE dan NIKL')\n",
    "plt.xlabel('TAHUN')"
   ]
  },
  {
   "cell_type": "code",
   "execution_count": 31,
   "id": "fc031a33",
   "metadata": {},
   "outputs": [
    {
     "data": {
      "text/plain": [
       "array([[1808.88888889],\n",
       "       [1010.04347826],\n",
       "       [1328.79310345],\n",
       "       [ 716.2       ],\n",
       "       [1613.54166667],\n",
       "       [2143.88888889]])"
      ]
     },
     "execution_count": 31,
     "metadata": {},
     "output_type": "execute_result"
    }
   ],
   "source": [
    "km.cluster_centers_"
   ]
  },
  {
   "cell_type": "code",
   "execution_count": 32,
   "id": "d683e873",
   "metadata": {},
   "outputs": [
    {
     "data": {
      "text/plain": [
       "array([0, 2, 5, 5, 5, 5, 5, 5, 5, 5, 0, 0, 0, 2, 0, 0, 0, 4, 4, 0, 4, 0,\n",
       "       2, 0, 2, 2, 5, 2, 2, 2, 5, 2, 2, 2, 0, 0, 2, 2, 0, 2, 0, 0, 0, 4,\n",
       "       4, 4, 4, 4, 4, 4, 4, 4, 3, 4, 4, 0, 4, 4, 4, 4, 4, 4, 4, 4, 4, 4,\n",
       "       4, 3, 4, 3, 3, 3, 3, 4, 4, 4, 4, 4, 0, 0, 0, 0, 0, 2, 2, 2, 2, 2,\n",
       "       2, 0, 0, 4, 0, 0, 2, 2, 2, 2, 5, 5, 5, 5, 5, 5, 5, 5, 1, 1, 1, 1,\n",
       "       1, 1, 1, 1, 1, 1, 1, 1, 1, 1, 1, 1, 1, 1, 1, 1, 1, 1, 1, 1, 1, 1])"
      ]
     },
     "execution_count": 32,
     "metadata": {},
     "output_type": "execute_result"
    }
   ],
   "source": [
    "y_predicted = km.fit_predict(data1[['WIKA']])\n",
    "y_predicted"
   ]
  },
  {
   "cell_type": "code",
   "execution_count": 33,
   "id": "027ceb3f",
   "metadata": {},
   "outputs": [
    {
     "data": {
      "text/plain": [
       "array([2, 2, 0, 0, 0, 0, 0, 0, 0, 3, 0, 2, 2, 2, 1, 1, 1, 1, 1, 1, 1, 1,\n",
       "       1, 1, 5, 1, 1, 5, 1, 5, 5, 5, 5, 4, 5, 5, 5, 5, 5, 1, 1, 1, 5, 5,\n",
       "       5, 5, 5, 5, 5, 5, 4, 5, 5, 5, 5, 5, 5, 5, 1, 1, 1, 1, 2, 2, 2, 1,\n",
       "       5, 5, 1, 1, 2, 2, 0, 3, 3, 3, 3, 3, 3, 3, 3, 3, 3, 3, 3, 3, 3, 3,\n",
       "       3, 3, 3, 0, 0, 0, 0, 0, 0, 0, 2, 2, 2, 2, 0, 0, 0, 0, 0, 0, 0, 0,\n",
       "       2, 2, 2, 1, 1, 1, 5, 5, 2, 1, 5, 4, 4, 4, 5, 1, 1, 1, 5, 1, 1, 1])"
      ]
     },
     "execution_count": 33,
     "metadata": {},
     "output_type": "execute_result"
    }
   ],
   "source": [
    "y_predicted = km.fit_predict(data1[['BISI']])\n",
    "y_predicted"
   ]
  },
  {
   "cell_type": "code",
   "execution_count": 64,
   "id": "cf7f3021",
   "metadata": {},
   "outputs": [
    {
     "data": {
      "text/plain": [
       "array([0, 3, 3, 2, 2, 2, 2, 2, 2, 2, 3, 3, 0, 0, 0, 0, 0, 0, 4, 0, 0, 0,\n",
       "       0, 0, 0, 0, 3, 3, 0, 0, 4, 4, 4, 1, 1, 1, 4, 4, 1, 1, 1, 1, 1, 1,\n",
       "       1, 1, 1, 1, 1, 4, 5, 5, 5, 5, 5, 1, 1, 1, 4, 1, 1, 4, 4, 0, 4, 1,\n",
       "       4, 1, 1, 5, 5, 5, 1, 1, 4, 4, 4, 4, 4, 4, 4, 4, 4, 0, 0, 0, 4, 0,\n",
       "       0, 4, 1, 5, 1, 1, 4, 0, 3, 0, 0, 3, 3, 3, 0, 0, 0, 0, 3, 3, 3, 2,\n",
       "       3, 3, 3, 3, 3, 3, 3, 2, 2, 2, 3, 3, 2, 3, 2, 2, 2, 2, 2, 2, 2, 2])"
      ]
     },
     "execution_count": 64,
     "metadata": {},
     "output_type": "execute_result"
    }
   ],
   "source": [
    "y_predicted = km.fit_predict(data1[['BSDE']])\n",
    "y_predicted"
   ]
  },
  {
   "cell_type": "code",
   "execution_count": 34,
   "id": "410bc09e",
   "metadata": {},
   "outputs": [
    {
     "data": {
      "text/plain": [
       "array([3, 5, 5, 5, 5, 5, 0, 0, 0, 0, 0, 5, 5, 5, 5, 5, 3, 3, 3, 3, 2, 2,\n",
       "       2, 2, 4, 4, 4, 1, 2, 4, 1, 1, 1, 1, 4, 4, 1, 2, 2, 4, 4, 4, 1, 1,\n",
       "       4, 2, 3, 4, 2, 3, 5, 5, 5, 0, 0, 0, 0, 0, 0, 0, 0, 0, 0, 0, 0, 0,\n",
       "       0, 0, 0, 0, 0, 0, 0, 0, 0, 0, 0, 0, 0, 0, 0, 0, 0, 0, 0, 0, 0, 0,\n",
       "       0, 0, 0, 0, 0, 0, 0, 0, 0, 0, 0, 0, 0, 0, 0, 0, 0, 0, 0, 0, 0, 0,\n",
       "       0, 0, 0, 0, 0, 0, 0, 0, 0, 0, 0, 0, 0, 0, 0, 0, 0, 0, 0, 0, 0, 0])"
      ]
     },
     "execution_count": 34,
     "metadata": {},
     "output_type": "execute_result"
    }
   ],
   "source": [
    "y_predicted = km.fit_predict(data1[['NIKL']])\n",
    "y_predicted"
   ]
  },
  {
   "cell_type": "code",
   "execution_count": 28,
   "id": "e47ca03c",
   "metadata": {},
   "outputs": [
    {
     "data": {
      "text/plain": [
       "Text(0.5, 0, 'TAHUN')"
      ]
     },
     "execution_count": 28,
     "metadata": {},
     "output_type": "execute_result"
    },
    {
     "data": {
      "image/png": "[encoded data removed]",
      "text/plain": [
       "<Figure size 1224x720 with 2 Axes>"
      ]
     },
     "metadata": {
      "needs_background": "light"
     },
     "output_type": "display_data"
    }
   ],
   "source": [
    "data11 = data1[data1.cluster==0]\n",
    "data12 = data1[data1.cluster==1]\n",
    "data13 = data1[data1.cluster==2]\n",
    "data14 = data1[data1.cluster==3]\n",
    "data15 = data1[data1.cluster==4]\n",
    "data16 = data1[data1.cluster==5]\n",
    "\n",
    "plt.figure(figsize=(17,10))\n",
    "\n",
    "plt.subplot(2,2,1)\n",
    "plt.scatter(data11['BISI'], data11['WIKA'], s=10, color='green')\n",
    "plt.scatter(data12['BISI'], data12['WIKA'], s=10, color='red')\n",
    "plt.scatter(data13['BISI'], data13['WIKA'], s=10, color='yellow')\n",
    "plt.scatter(data14['BISI'], data14['WIKA'], s=10, color='black')\n",
    "plt.scatter(data15['BISI'], data15['WIKA'], s=10, color='pink')\n",
    "plt.scatter(data16['BISI'], data16['WIKA'], s=10, color='blue')\n",
    "\n",
    "plt.title('DATA HARGA SAHAM WIKA dan BISI')\n",
    "plt.xlabel('TAHUN')\n",
    "plt.ylabel('HARGA SAHAM')\n",
    "\n",
    "\n",
    "plt.subplot(2,2,2)\n",
    "plt.scatter(data11['NIKL'], data11['BSDE'], s=10, color='green')\n",
    "plt.scatter(data12['NIKL'], data12['BSDE'], s=10, color='red')\n",
    "plt.scatter(data13['NIKL'], data13['BSDE'], s=10, color='yellow')\n",
    "plt.scatter(data14['NIKL'], data14['BSDE'], s=10, color='black')\n",
    "plt.scatter(data15['NIKL'], data15['BSDE'], s=10, color='pink')\n",
    "plt.scatter(data16['NIKL'], data16['BSDE'], s=10, color='blue')\n",
    "\n",
    "\n",
    "plt.title('DATA HARGA SAHAM BSDE dan NIKL')\n",
    "plt.xlabel('TAHUN')"
   ]
  },
  {
   "cell_type": "code",
   "execution_count": 36,
   "id": "2f1507a9",
   "metadata": {},
   "outputs": [
    {
     "data": {
      "text/plain": [
       "array([[ 233.55952381],\n",
       "       [4875.625     ],\n",
       "       [2766.66666667],\n",
       "       [1520.71428571],\n",
       "       [3777.27272727],\n",
       "       [ 767.30769231]])"
      ]
     },
     "execution_count": 36,
     "metadata": {},
     "output_type": "execute_result"
    }
   ],
   "source": [
    "km.cluster_centers_"
   ]
  },
  {
   "cell_type": "code",
   "execution_count": 38,
   "id": "0b12b93b",
   "metadata": {},
   "outputs": [
    {
     "data": {
      "text/plain": [
       "array([5, 2, 3, 3, 3, 3, 3, 3, 3, 3, 5, 5, 5, 2, 5, 5, 5, 0, 0, 5, 0, 5,\n",
       "       2, 5, 2, 2, 3, 2, 2, 2, 3, 2, 2, 2, 5, 5, 2, 2, 5, 2, 5, 5, 5, 0,\n",
       "       0, 0, 0, 0, 0, 0, 0, 0, 4, 0, 0, 5, 0, 0, 0, 0, 0, 0, 0, 0, 0, 0,\n",
       "       0, 0, 0, 4, 4, 4, 4, 0, 0, 0, 0, 0, 5, 5, 5, 5, 5, 2, 2, 2, 2, 2,\n",
       "       2, 5, 5, 0, 5, 5, 2, 2, 2, 2, 3, 3, 3, 3, 3, 3, 3, 3, 1, 1, 1, 1,\n",
       "       1, 1, 1, 1, 1, 1, 1, 1, 1, 1, 1, 1, 1, 1, 1, 1, 1, 1, 1, 1, 1, 1])"
      ]
     },
     "execution_count": 38,
     "metadata": {},
     "output_type": "execute_result"
    }
   ],
   "source": [
    "y_predicted = km.fit_predict(data1[['WIKA']])\n",
    "y_predicted"
   ]
  },
  {
   "cell_type": "code",
   "execution_count": 40,
   "id": "74b7c71c",
   "metadata": {},
   "outputs": [
    {
     "data": {
      "text/plain": [
       "array([5, 5, 0, 0, 0, 0, 0, 0, 0, 3, 0, 5, 5, 5, 2, 2, 2, 2, 2, 2, 2, 2,\n",
       "       2, 2, 1, 2, 2, 1, 2, 1, 1, 1, 1, 4, 1, 1, 1, 1, 1, 2, 2, 2, 1, 1,\n",
       "       1, 1, 1, 1, 1, 1, 4, 1, 1, 1, 1, 1, 1, 1, 2, 2, 2, 2, 5, 5, 5, 2,\n",
       "       1, 1, 2, 2, 5, 5, 0, 3, 3, 3, 3, 3, 3, 3, 3, 3, 3, 3, 3, 3, 3, 3,\n",
       "       3, 3, 3, 0, 0, 0, 0, 0, 0, 0, 5, 5, 5, 5, 0, 0, 0, 0, 0, 0, 0, 0,\n",
       "       5, 5, 5, 2, 2, 2, 1, 1, 5, 2, 1, 4, 4, 4, 1, 2, 2, 2, 1, 2, 2, 2])"
      ]
     },
     "execution_count": 40,
     "metadata": {},
     "output_type": "execute_result"
    }
   ],
   "source": [
    "y_predicted = km.fit_predict(data1[['BISI']])\n",
    "y_predicted"
   ]
  },
  {
   "cell_type": "code",
   "execution_count": 41,
   "id": "98c60135",
   "metadata": {},
   "outputs": [
    {
     "data": {
      "text/plain": [
       "array([3, 0, 0, 4, 4, 4, 4, 4, 4, 4, 0, 0, 3, 3, 3, 3, 3, 3, 2, 3, 3, 3,\n",
       "       3, 3, 3, 3, 0, 0, 3, 3, 2, 2, 2, 1, 1, 1, 2, 2, 1, 1, 1, 1, 1, 1,\n",
       "       1, 1, 1, 1, 1, 2, 5, 5, 5, 5, 5, 1, 1, 1, 2, 1, 1, 2, 2, 3, 2, 1,\n",
       "       2, 1, 1, 5, 5, 5, 1, 1, 2, 2, 2, 2, 2, 2, 2, 2, 2, 3, 3, 3, 2, 3,\n",
       "       3, 2, 1, 5, 1, 1, 2, 3, 0, 3, 3, 0, 0, 0, 3, 3, 3, 3, 0, 0, 0, 4,\n",
       "       0, 0, 0, 0, 0, 0, 0, 4, 4, 4, 0, 0, 4, 0, 4, 4, 4, 4, 4, 4, 4, 4])"
      ]
     },
     "execution_count": 41,
     "metadata": {},
     "output_type": "execute_result"
    }
   ],
   "source": [
    "y_predicted = km.fit_predict(data1[['BSDE']])\n",
    "y_predicted"
   ]
  },
  {
   "cell_type": "code",
   "execution_count": 42,
   "id": "68505761",
   "metadata": {},
   "outputs": [
    {
     "data": {
      "text/plain": [
       "array([0, 5, 5, 5, 5, 5, 1, 1, 1, 1, 1, 5, 5, 5, 5, 5, 0, 0, 0, 0, 4, 4,\n",
       "       4, 4, 3, 3, 3, 2, 4, 3, 2, 2, 2, 2, 3, 3, 2, 4, 4, 3, 3, 3, 2, 2,\n",
       "       3, 4, 0, 3, 4, 0, 5, 5, 5, 1, 1, 1, 1, 1, 1, 1, 1, 1, 1, 1, 1, 1,\n",
       "       1, 1, 1, 1, 1, 1, 1, 1, 1, 1, 1, 1, 1, 1, 1, 1, 1, 1, 1, 1, 1, 1,\n",
       "       1, 1, 1, 1, 1, 1, 1, 1, 1, 1, 1, 1, 1, 1, 1, 1, 1, 1, 1, 1, 1, 1,\n",
       "       1, 1, 1, 1, 1, 1, 1, 1, 1, 1, 1, 1, 1, 1, 1, 1, 1, 1, 1, 1, 1, 1])"
      ]
     },
     "execution_count": 42,
     "metadata": {},
     "output_type": "execute_result"
    }
   ],
   "source": [
    "y_predicted = km.fit_predict(data1[['NIKL']])\n",
    "y_predicted"
   ]
  },
  {
   "cell_type": "code",
   "execution_count": 29,
   "id": "92eddba8",
   "metadata": {},
   "outputs": [
    {
     "data": {
      "text/plain": [
       "Text(0.5, 0, 'TAHUN')"
      ]
     },
     "execution_count": 29,
     "metadata": {},
     "output_type": "execute_result"
    },
    {
     "data": {
      "image/png": "[encoded data removed]",
      "text/plain": [
       "<Figure size 1224x720 with 2 Axes>"
      ]
     },
     "metadata": {
      "needs_background": "light"
     },
     "output_type": "display_data"
    }
   ],
   "source": [
    "data11 = data1[data1.cluster==0]\n",
    "data12 = data1[data1.cluster==1]\n",
    "data13 = data1[data1.cluster==2]\n",
    "data14 = data1[data1.cluster==3]\n",
    "data15 = data1[data1.cluster==4]\n",
    "data16 = data1[data1.cluster==5]\n",
    "\n",
    "plt.figure(figsize=(17,10))\n",
    "\n",
    "plt.subplot(2,2,1)\n",
    "plt.scatter(data11['BISI'], data11['WIKA'], s=10, color='green')\n",
    "plt.scatter(data12['BISI'], data12['WIKA'], s=10, color='red')\n",
    "plt.scatter(data13['BISI'], data13['WIKA'], s=10, color='yellow')\n",
    "plt.scatter(data14['BISI'], data14['WIKA'], s=10, color='black')\n",
    "plt.scatter(data15['BISI'], data15['WIKA'], s=10, color='pink')\n",
    "plt.scatter(data16['BISI'], data16['WIKA'], s=10, color='blue')\n",
    "\n",
    "plt.title('DATA HARGA SAHAM WIKA dan BISI')\n",
    "plt.xlabel('TAHUN')\n",
    "plt.ylabel('HARGA SAHAM')\n",
    "\n",
    "\n",
    "plt.subplot(2,2,2)\n",
    "plt.scatter(data11['NIKL'], data11['BSDE'], s=10, color='green')\n",
    "plt.scatter(data12['NIKL'], data12['BSDE'], s=10, color='red')\n",
    "plt.scatter(data13['NIKL'], data13['BSDE'], s=10, color='yellow')\n",
    "plt.scatter(data14['NIKL'], data14['BSDE'], s=10, color='black')\n",
    "plt.scatter(data15['NIKL'], data15['BSDE'], s=10, color='pink')\n",
    "plt.scatter(data16['NIKL'], data16['BSDE'], s=10, color='blue')\n",
    "\n",
    "\n",
    "plt.title('DATA HARGA SAHAM BSDE dan NIKL')\n",
    "plt.xlabel('TAHUN')"
   ]
  },
  {
   "cell_type": "code",
   "execution_count": 44,
   "id": "454962da",
   "metadata": {},
   "outputs": [
    {
     "data": {
      "text/plain": [
       "array([[1520.71428571],\n",
       "       [ 233.55952381],\n",
       "       [4875.625     ],\n",
       "       [3777.27272727],\n",
       "       [2766.66666667],\n",
       "       [ 767.30769231]])"
      ]
     },
     "execution_count": 44,
     "metadata": {},
     "output_type": "execute_result"
    }
   ],
   "source": [
    "km.cluster_centers_"
   ]
  },
  {
   "cell_type": "markdown",
   "id": "22fb7be5",
   "metadata": {},
   "source": [
    "# Return Saham"
   ]
  },
  {
   "cell_type": "code",
   "execution_count": 31,
   "id": "c5877a68",
   "metadata": {},
   "outputs": [],
   "source": [
    "file = 'Return Saham.xlsx'\n",
    "data2 = pd.read_excel(file)"
   ]
  },
  {
   "cell_type": "code",
   "execution_count": 33,
   "id": "203fc163",
   "metadata": {},
   "outputs": [
    {
     "data": {
      "text/html": [
       "<div>\n",
       "<style scoped>\n",
       "    .dataframe tbody tr th:only-of-type {\n",
       "        vertical-align: middle;\n",
       "    }\n",
       "\n",
       "    .dataframe tbody tr th {\n",
       "        vertical-align: top;\n",
       "    }\n",
       "\n",
       "    .dataframe thead th {\n",
       "        text-align: right;\n",
       "    }\n",
       "</style>\n",
       "<table border=\"1\" class=\"dataframe\">\n",
       "  <thead>\n",
       "    <tr style=\"text-align: right;\">\n",
       "      <th></th>\n",
       "      <th>Waktu</th>\n",
       "      <th>WIKA</th>\n",
       "      <th>BISI</th>\n",
       "      <th>BSDE</th>\n",
       "      <th>NIKL</th>\n",
       "    </tr>\n",
       "  </thead>\n",
       "  <tbody>\n",
       "    <tr>\n",
       "      <th>0</th>\n",
       "      <td>2020-12-01</td>\n",
       "      <td>0.225309</td>\n",
       "      <td>0.009804</td>\n",
       "      <td>0.166667</td>\n",
       "      <td>0.459596</td>\n",
       "    </tr>\n",
       "    <tr>\n",
       "      <th>1</th>\n",
       "      <td>2020-11-01</td>\n",
       "      <td>0.344398</td>\n",
       "      <td>0.133333</td>\n",
       "      <td>0.179775</td>\n",
       "      <td>0.294118</td>\n",
       "    </tr>\n",
       "    <tr>\n",
       "      <th>2</th>\n",
       "      <td>2020-10-01</td>\n",
       "      <td>0.100457</td>\n",
       "      <td>-0.052632</td>\n",
       "      <td>0.202703</td>\n",
       "      <td>0.125000</td>\n",
       "    </tr>\n",
       "    <tr>\n",
       "      <th>3</th>\n",
       "      <td>2020-09-01</td>\n",
       "      <td>-0.116935</td>\n",
       "      <td>0.049724</td>\n",
       "      <td>-0.045161</td>\n",
       "      <td>-0.190476</td>\n",
       "    </tr>\n",
       "    <tr>\n",
       "      <th>4</th>\n",
       "      <td>2020-08-01</td>\n",
       "      <td>0.042017</td>\n",
       "      <td>0.077381</td>\n",
       "      <td>0.123188</td>\n",
       "      <td>-0.028902</td>\n",
       "    </tr>\n",
       "    <tr>\n",
       "      <th>...</th>\n",
       "      <td>...</td>\n",
       "      <td>...</td>\n",
       "      <td>...</td>\n",
       "      <td>...</td>\n",
       "      <td>...</td>\n",
       "    </tr>\n",
       "    <tr>\n",
       "      <th>127</th>\n",
       "      <td>2010-05-01</td>\n",
       "      <td>-0.164706</td>\n",
       "      <td>-0.292818</td>\n",
       "      <td>-0.178571</td>\n",
       "      <td>-0.205882</td>\n",
       "    </tr>\n",
       "    <tr>\n",
       "      <th>128</th>\n",
       "      <td>2010-04-01</td>\n",
       "      <td>0.214286</td>\n",
       "      <td>0.222973</td>\n",
       "      <td>0.377049</td>\n",
       "      <td>0.152542</td>\n",
       "    </tr>\n",
       "    <tr>\n",
       "      <th>129</th>\n",
       "      <td>2010-03-01</td>\n",
       "      <td>0.044776</td>\n",
       "      <td>0.072464</td>\n",
       "      <td>0.000000</td>\n",
       "      <td>0.255319</td>\n",
       "    </tr>\n",
       "    <tr>\n",
       "      <th>130</th>\n",
       "      <td>2010-02-01</td>\n",
       "      <td>0.063492</td>\n",
       "      <td>-0.103896</td>\n",
       "      <td>-0.273810</td>\n",
       "      <td>-0.078431</td>\n",
       "    </tr>\n",
       "    <tr>\n",
       "      <th>131</th>\n",
       "      <td>2010-01-01</td>\n",
       "      <td>-0.030769</td>\n",
       "      <td>0.140741</td>\n",
       "      <td>-0.045455</td>\n",
       "      <td>0.000000</td>\n",
       "    </tr>\n",
       "  </tbody>\n",
       "</table>\n",
       "<p>132 rows × 5 columns</p>\n",
       "</div>"
      ],
      "text/plain": [
       "         Waktu      WIKA      BISI      BSDE      NIKL\n",
       "0   2020-12-01  0.225309  0.009804  0.166667  0.459596\n",
       "1   2020-11-01  0.344398  0.133333  0.179775  0.294118\n",
       "2   2020-10-01  0.100457 -0.052632  0.202703  0.125000\n",
       "3   2020-09-01 -0.116935  0.049724 -0.045161 -0.190476\n",
       "4   2020-08-01  0.042017  0.077381  0.123188 -0.028902\n",
       "..         ...       ...       ...       ...       ...\n",
       "127 2010-05-01 -0.164706 -0.292818 -0.178571 -0.205882\n",
       "128 2010-04-01  0.214286  0.222973  0.377049  0.152542\n",
       "129 2010-03-01  0.044776  0.072464  0.000000  0.255319\n",
       "130 2010-02-01  0.063492 -0.103896 -0.273810 -0.078431\n",
       "131 2010-01-01 -0.030769  0.140741 -0.045455  0.000000\n",
       "\n",
       "[132 rows x 5 columns]"
      ]
     },
     "execution_count": 33,
     "metadata": {},
     "output_type": "execute_result"
    }
   ],
   "source": [
    "data2"
   ]
  },
  {
   "cell_type": "code",
   "execution_count": 34,
   "id": "36590c97",
   "metadata": {},
   "outputs": [
    {
     "name": "stdout",
     "output_type": "stream",
     "text": [
      "<class 'pandas.core.frame.DataFrame'>\n",
      "RangeIndex: 132 entries, 0 to 131\n",
      "Data columns (total 5 columns):\n",
      " #   Column  Non-Null Count  Dtype         \n",
      "---  ------  --------------  -----         \n",
      " 0   Waktu   132 non-null    datetime64[ns]\n",
      " 1   WIKA    132 non-null    float64       \n",
      " 2   BISI    132 non-null    float64       \n",
      " 3   BSDE    132 non-null    float64       \n",
      " 4   NIKL    132 non-null    float64       \n",
      "dtypes: datetime64[ns](1), float64(4)\n",
      "memory usage: 5.3 KB\n"
     ]
    }
   ],
   "source": [
    "data2.info()"
   ]
  },
  {
   "cell_type": "code",
   "execution_count": 35,
   "id": "11a8ef37",
   "metadata": {},
   "outputs": [
    {
     "data": {
      "text/plain": [
       "Text(0, 0.5, 'RETURN SAHAM')"
      ]
     },
     "execution_count": 35,
     "metadata": {},
     "output_type": "execute_result"
    },
    {
     "data": {
      "image/png": "[encoded data removed]",
      "text/plain": [
       "<Figure size 1224x720 with 2 Axes>"
      ]
     },
     "metadata": {
      "needs_background": "light"
     },
     "output_type": "display_data"
    }
   ],
   "source": [
    "plt.figure(figsize=(17,10))\n",
    "\n",
    "plt.subplot(2,2,1)\n",
    "plt.scatter(data2['Waktu'], data2['WIKA'], s=5, color='red')\n",
    "plt.scatter(data2['Waktu'], data2['BISI'], s=5, color='green')\n",
    "\n",
    "plt.title('DATA RETURN SAHAM WIKA dan BISI')\n",
    "plt.xlabel('TAHUN')\n",
    "plt.ylabel('RETURN SAHAM')\n",
    "\n",
    "\n",
    "plt.subplot(2,2,2)\n",
    "plt.scatter(data2['Waktu'], data2['BSDE'], s=5, color='blue')\n",
    "plt.scatter(data2['Waktu'], data2['NIKL'], s=5, color='black')\n",
    "plt.title('DATA RETURN SAHAM BSDE dan NIKL')\n",
    "plt.xlabel('TAHUN')\n",
    "plt.ylabel('RETURN SAHAM')"
   ]
  },
  {
   "cell_type": "code",
   "execution_count": 36,
   "id": "f8cccc3f",
   "metadata": {},
   "outputs": [
    {
     "data": {
      "text/plain": [
       "KMeans(n_clusters=6)"
      ]
     },
     "execution_count": 36,
     "metadata": {},
     "output_type": "execute_result"
    }
   ],
   "source": [
    "km = KMeans(n_clusters=6)\n",
    "km"
   ]
  },
  {
   "cell_type": "code",
   "execution_count": 37,
   "id": "82a43552",
   "metadata": {},
   "outputs": [
    {
     "data": {
      "text/plain": [
       "array([1, 1, 5, 2, 0, 0, 5, 5, 5, 4, 0, 3, 5, 2, 0, 2, 3, 3, 0, 3, 5, 1,\n",
       "       3, 5, 5, 1, 2, 2, 0, 5, 2, 0, 3, 2, 3, 1, 2, 3, 5, 3, 3, 3, 3, 3,\n",
       "       3, 3, 3, 5, 3, 0, 3, 2, 5, 0, 1, 3, 0, 0, 3, 0, 3, 3, 5, 3, 0, 0,\n",
       "       2, 0, 2, 3, 3, 0, 1, 0, 5, 3, 5, 1, 3, 0, 3, 5, 5, 1, 3, 2, 0, 5,\n",
       "       2, 0, 2, 5, 1, 5, 0, 5, 3, 1, 5, 5, 0, 3, 5, 3, 5, 1, 0, 5, 1, 3,\n",
       "       0, 2, 2, 0, 3, 0, 0, 0, 5, 3, 5, 2, 5, 5, 5, 1, 1, 2, 1, 0, 0, 3])"
      ]
     },
     "execution_count": 37,
     "metadata": {},
     "output_type": "execute_result"
    }
   ],
   "source": [
    "y_predicted = km.fit_predict(data2[['WIKA']])\n",
    "y_predicted"
   ]
  },
  {
   "cell_type": "code",
   "execution_count": 38,
   "id": "4cce088b",
   "metadata": {},
   "outputs": [
    {
     "data": {
      "text/plain": [
       "array([4, 0, 1, 4, 0, 4, 1, 4, 2, 3, 1, 1, 1, 3, 1, 4, 4, 1, 4, 4, 4, 4,\n",
       "       1, 3, 0, 0, 3, 5, 3, 4, 1, 4, 1, 0, 4, 4, 0, 4, 0, 4, 1, 1, 1, 1,\n",
       "       4, 0, 1, 1, 4, 1, 0, 4, 4, 4, 4, 4, 1, 5, 0, 1, 4, 0, 0, 0, 3, 3,\n",
       "       1, 5, 0, 5, 4, 5, 2, 0, 4, 1, 4, 4, 1, 1, 1, 4, 5, 1, 4, 1, 4, 4,\n",
       "       1, 1, 3, 0, 3, 0, 4, 4, 1, 3, 4, 4, 1, 2, 4, 1, 4, 1, 4, 4, 0, 3,\n",
       "       4, 3, 3, 0, 3, 1, 1, 2, 1, 3, 1, 3, 4, 5, 0, 0, 4, 3, 5, 0, 1, 0])"
      ]
     },
     "execution_count": 38,
     "metadata": {},
     "output_type": "execute_result"
    }
   ],
   "source": [
    "y_predicted = km.fit_predict(data2[['BISI']])\n",
    "y_predicted"
   ]
  },
  {
   "cell_type": "code",
   "execution_count": 39,
   "id": "02d45760",
   "metadata": {},
   "outputs": [
    {
     "data": {
      "text/plain": [
       "array([0, 0, 3, 2, 0, 2, 0, 4, 5, 1, 4, 4, 5, 4, 5, 5, 2, 2, 0, 2, 5, 5,\n",
       "       5, 5, 2, 3, 2, 2, 4, 4, 2, 5, 2, 2, 5, 5, 5, 2, 2, 2, 5, 2, 5, 5,\n",
       "       2, 5, 5, 5, 5, 4, 2, 5, 5, 2, 0, 2, 5, 0, 2, 2, 5, 5, 0, 4, 4, 5,\n",
       "       4, 5, 4, 2, 0, 0, 5, 0, 5, 2, 5, 5, 2, 5, 2, 5, 5, 0, 2, 4, 0, 0,\n",
       "       4, 4, 4, 3, 2, 0, 0, 3, 2, 2, 0, 0, 4, 2, 2, 4, 0, 0, 0, 5, 0, 2,\n",
       "       5, 4, 5, 0, 2, 2, 0, 3, 2, 4, 2, 3, 4, 0, 5, 0, 5, 4, 3, 5, 1, 2])"
      ]
     },
     "execution_count": 39,
     "metadata": {},
     "output_type": "execute_result"
    }
   ],
   "source": [
    "y_predicted = km.fit_predict(data2[['BSDE']])\n",
    "y_predicted"
   ]
  },
  {
   "cell_type": "code",
   "execution_count": 40,
   "id": "96269cd4",
   "metadata": {},
   "outputs": [
    {
     "data": {
      "text/plain": [
       "array([4, 4, 0, 3, 0, 1, 4, 0, 0, 4, 5, 3, 4, 5, 0, 3, 0, 0, 3, 3, 3, 0,\n",
       "       0, 3, 0, 0, 3, 1, 5, 3, 0, 0, 0, 4, 3, 3, 1, 3, 3, 0, 3, 3, 0, 4,\n",
       "       4, 4, 5, 1, 4, 2, 3, 0, 4, 4, 1, 0, 2, 4, 0, 0, 0, 0, 3, 0, 3, 3,\n",
       "       3, 0, 3, 3, 0, 0, 0, 0, 0, 0, 0, 3, 0, 0, 0, 0, 0, 0, 0, 3, 0, 0,\n",
       "       0, 0, 3, 0, 0, 0, 0, 0, 0, 0, 0, 0, 0, 0, 0, 3, 0, 0, 0, 0, 0, 0,\n",
       "       0, 3, 3, 0, 0, 0, 0, 0, 0, 3, 0, 0, 0, 4, 0, 0, 0, 3, 0, 4, 0, 0])"
      ]
     },
     "execution_count": 40,
     "metadata": {},
     "output_type": "execute_result"
    }
   ],
   "source": [
    "y_predicted = km.fit_predict(data2[['NIKL']])\n",
    "y_predicted"
   ]
  },
  {
   "cell_type": "code",
   "execution_count": 41,
   "id": "dbcce84d",
   "metadata": {},
   "outputs": [
    {
     "ename": "AttributeError",
     "evalue": "'DataFrame' object has no attribute 'cluster'",
     "output_type": "error",
     "traceback": [
      "\u001b[1;31m---------------------------------------------------------------------------\u001b[0m",
      "\u001b[1;31mAttributeError\u001b[0m                            Traceback (most recent call last)",
      "\u001b[1;32m<ipython-input-41-308ae651281c>\u001b[0m in \u001b[0;36m<module>\u001b[1;34m\u001b[0m\n\u001b[1;32m----> 1\u001b[1;33m \u001b[0mdata21\u001b[0m \u001b[1;33m=\u001b[0m \u001b[0mdata2\u001b[0m\u001b[1;33m[\u001b[0m\u001b[0mdata2\u001b[0m\u001b[1;33m.\u001b[0m\u001b[0mcluster\u001b[0m\u001b[1;33m==\u001b[0m\u001b[1;36m0\u001b[0m\u001b[1;33m]\u001b[0m\u001b[1;33m\u001b[0m\u001b[1;33m\u001b[0m\u001b[0m\n\u001b[0m\u001b[0;32m      2\u001b[0m \u001b[0mdata22\u001b[0m \u001b[1;33m=\u001b[0m \u001b[0mdata2\u001b[0m\u001b[1;33m[\u001b[0m\u001b[0mdata2\u001b[0m\u001b[1;33m.\u001b[0m\u001b[0mcluster\u001b[0m\u001b[1;33m==\u001b[0m\u001b[1;36m1\u001b[0m\u001b[1;33m]\u001b[0m\u001b[1;33m\u001b[0m\u001b[1;33m\u001b[0m\u001b[0m\n\u001b[0;32m      3\u001b[0m \u001b[0mdata23\u001b[0m \u001b[1;33m=\u001b[0m \u001b[0mdata2\u001b[0m\u001b[1;33m[\u001b[0m\u001b[0mdata2\u001b[0m\u001b[1;33m.\u001b[0m\u001b[0mcluster\u001b[0m\u001b[1;33m==\u001b[0m\u001b[1;36m2\u001b[0m\u001b[1;33m]\u001b[0m\u001b[1;33m\u001b[0m\u001b[1;33m\u001b[0m\u001b[0m\n\u001b[0;32m      4\u001b[0m \u001b[0mdata24\u001b[0m \u001b[1;33m=\u001b[0m \u001b[0mdata2\u001b[0m\u001b[1;33m[\u001b[0m\u001b[0mdata2\u001b[0m\u001b[1;33m.\u001b[0m\u001b[0mcluster\u001b[0m\u001b[1;33m==\u001b[0m\u001b[1;36m3\u001b[0m\u001b[1;33m]\u001b[0m\u001b[1;33m\u001b[0m\u001b[1;33m\u001b[0m\u001b[0m\n\u001b[0;32m      5\u001b[0m \u001b[0mdata25\u001b[0m \u001b[1;33m=\u001b[0m \u001b[0mdata2\u001b[0m\u001b[1;33m[\u001b[0m\u001b[0mdata2\u001b[0m\u001b[1;33m.\u001b[0m\u001b[0mcluster\u001b[0m\u001b[1;33m==\u001b[0m\u001b[1;36m4\u001b[0m\u001b[1;33m]\u001b[0m\u001b[1;33m\u001b[0m\u001b[1;33m\u001b[0m\u001b[0m\n",
      "\u001b[1;32mC:\\ProgramData\\Anaconda3\\lib\\site-packages\\pandas\\core\\generic.py\u001b[0m in \u001b[0;36m__getattr__\u001b[1;34m(self, name)\u001b[0m\n\u001b[0;32m   5463\u001b[0m             \u001b[1;32mif\u001b[0m \u001b[0mself\u001b[0m\u001b[1;33m.\u001b[0m\u001b[0m_info_axis\u001b[0m\u001b[1;33m.\u001b[0m\u001b[0m_can_hold_identifiers_and_holds_name\u001b[0m\u001b[1;33m(\u001b[0m\u001b[0mname\u001b[0m\u001b[1;33m)\u001b[0m\u001b[1;33m:\u001b[0m\u001b[1;33m\u001b[0m\u001b[1;33m\u001b[0m\u001b[0m\n\u001b[0;32m   5464\u001b[0m                 \u001b[1;32mreturn\u001b[0m \u001b[0mself\u001b[0m\u001b[1;33m[\u001b[0m\u001b[0mname\u001b[0m\u001b[1;33m]\u001b[0m\u001b[1;33m\u001b[0m\u001b[1;33m\u001b[0m\u001b[0m\n\u001b[1;32m-> 5465\u001b[1;33m             \u001b[1;32mreturn\u001b[0m \u001b[0mobject\u001b[0m\u001b[1;33m.\u001b[0m\u001b[0m__getattribute__\u001b[0m\u001b[1;33m(\u001b[0m\u001b[0mself\u001b[0m\u001b[1;33m,\u001b[0m \u001b[0mname\u001b[0m\u001b[1;33m)\u001b[0m\u001b[1;33m\u001b[0m\u001b[1;33m\u001b[0m\u001b[0m\n\u001b[0m\u001b[0;32m   5466\u001b[0m \u001b[1;33m\u001b[0m\u001b[0m\n\u001b[0;32m   5467\u001b[0m     \u001b[1;32mdef\u001b[0m \u001b[0m__setattr__\u001b[0m\u001b[1;33m(\u001b[0m\u001b[0mself\u001b[0m\u001b[1;33m,\u001b[0m \u001b[0mname\u001b[0m\u001b[1;33m:\u001b[0m \u001b[0mstr\u001b[0m\u001b[1;33m,\u001b[0m \u001b[0mvalue\u001b[0m\u001b[1;33m)\u001b[0m \u001b[1;33m->\u001b[0m \u001b[1;32mNone\u001b[0m\u001b[1;33m:\u001b[0m\u001b[1;33m\u001b[0m\u001b[1;33m\u001b[0m\u001b[0m\n",
      "\u001b[1;31mAttributeError\u001b[0m: 'DataFrame' object has no attribute 'cluster'"
     ]
    }
   ],
   "source": [
    "data21 = data2[data2.cluster==0]\n",
    "data22 = data2[data2.cluster==1]\n",
    "data23 = data2[data2.cluster==2]\n",
    "data24 = data2[data2.cluster==3]\n",
    "data25 = data2[data2.cluster==4]\n",
    "data26 = data2[data2.cluster==5]\n",
    "\n",
    "plt.figure(figsize=(17,10))\n",
    "\n",
    "plt.subplot(2,2,1)\n",
    "plt.scatter(data21['BISI'], data21['WIKA'], s=10, color='green')\n",
    "plt.scatter(data22['BISI'], data22['WIKA'], s=10, color='red')\n",
    "plt.scatter(data23['BISI'], data23['WIKA'], s=10, color='yellow')\n",
    "plt.scatter(data24['BISI'], data24['WIKA'], s=10, color='black')\n",
    "plt.scatter(data25['BISI'], data25['WIKA'], s=10, color='pink')\n",
    "plt.scatter(data26['BISI'], data26['WIKA'], s=10, color='pink')\n",
    "\n",
    "plt.title('DATA HARGA SAHAM WIKA dan BISI')\n",
    "plt.xlabel('TAHUN')\n",
    "plt.ylabel('HARGA SAHAM')\n",
    "\n",
    "\n",
    "plt.subplot(2,2,2)\n",
    "plt.scatter(data21['NIKL'], data21['BSDE'], s=10, color='green')\n",
    "plt.scatter(data22['NIKL'], data22['BSDE'], s=10, color='red')\n",
    "plt.scatter(data23['NIKL'], data23['BSDE'], s=10, color='yellow')\n",
    "plt.scatter(data24['NIKL'], data24['BSDE'], s=10, color='black')\n",
    "plt.scatter(data25['NIKL'], data25['BSDE'], s=10, color='pink')\n",
    "\n",
    "\n",
    "plt.title('DATA RETURN SAHAM BSDE dan NIKL')\n",
    "plt.xlabel('TAHUN')\n",
    "plt.ylabel('RETURN SAHAM')"
   ]
  },
  {
   "cell_type": "code",
   "execution_count": null,
   "id": "ae971869",
   "metadata": {},
   "outputs": [],
   "source": []
  }
 ],
 "metadata": {
  "kernelspec": {
   "display_name": "Python 3",
   "language": "python",
   "name": "python3"
  },
  "language_info": {
   "codemirror_mode": {
    "name": "ipython",
    "version": 3
   },
   "file_extension": ".py",
   "mimetype": "text/x-python",
   "name": "python",
   "nbconvert_exporter": "python",
   "pygments_lexer": "ipython3",
   "version": "3.8.8"
  }
 },
 "nbformat": 4,
 "nbformat_minor": 5
}
